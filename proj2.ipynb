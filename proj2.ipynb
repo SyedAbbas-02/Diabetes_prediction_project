{
 "cells": [
  {
   "cell_type": "code",
   "execution_count": 2,
   "metadata": {},
   "outputs": [],
   "source": [
    "import numpy as np\n",
    "import matplotlib.pyplot as plt\n",
    "import pandas as pd\n"
   ]
  },
  {
   "cell_type": "code",
   "execution_count": 3,
   "metadata": {},
   "outputs": [],
   "source": [
    "dataset = pd.read_csv('diabetes.csv')\n",
    "X = dataset.iloc[:, 0:8]\n",
    "y = dataset.iloc[:, 8]"
   ]
  },
  {
   "cell_type": "code",
   "execution_count": 4,
   "metadata": {},
   "outputs": [
    {
     "data": {
      "text/plain": [
       "0      1\n",
       "1      0\n",
       "2      1\n",
       "3      0\n",
       "4      1\n",
       "      ..\n",
       "763    0\n",
       "764    0\n",
       "765    0\n",
       "766    1\n",
       "767    0\n",
       "Name: Outcome, Length: 768, dtype: int64"
      ]
     },
     "execution_count": 4,
     "metadata": {},
     "output_type": "execute_result"
    }
   ],
   "source": [
    "y"
   ]
  },
  {
   "cell_type": "code",
   "execution_count": 5,
   "metadata": {},
   "outputs": [
    {
     "data": {
      "text/plain": [
       "(768, 9)"
      ]
     },
     "execution_count": 5,
     "metadata": {},
     "output_type": "execute_result"
    }
   ],
   "source": [
    "dataset.shape"
   ]
  },
  {
   "cell_type": "code",
   "execution_count": 6,
   "metadata": {},
   "outputs": [
    {
     "data": {
      "text/html": [
       "<div>\n",
       "<style scoped>\n",
       "    .dataframe tbody tr th:only-of-type {\n",
       "        vertical-align: middle;\n",
       "    }\n",
       "\n",
       "    .dataframe tbody tr th {\n",
       "        vertical-align: top;\n",
       "    }\n",
       "\n",
       "    .dataframe thead th {\n",
       "        text-align: right;\n",
       "    }\n",
       "</style>\n",
       "<table border=\"1\" class=\"dataframe\">\n",
       "  <thead>\n",
       "    <tr style=\"text-align: right;\">\n",
       "      <th></th>\n",
       "      <th>Pregnancies</th>\n",
       "      <th>Glucose</th>\n",
       "      <th>BloodPressure</th>\n",
       "      <th>SkinThickness</th>\n",
       "      <th>Insulin</th>\n",
       "      <th>BMI</th>\n",
       "      <th>DiabetesPedigreeFunction</th>\n",
       "      <th>Age</th>\n",
       "      <th>Outcome</th>\n",
       "    </tr>\n",
       "  </thead>\n",
       "  <tbody>\n",
       "    <tr>\n",
       "      <th>0</th>\n",
       "      <td>6</td>\n",
       "      <td>148</td>\n",
       "      <td>72</td>\n",
       "      <td>35</td>\n",
       "      <td>0</td>\n",
       "      <td>33.6</td>\n",
       "      <td>0.627</td>\n",
       "      <td>50</td>\n",
       "      <td>1</td>\n",
       "    </tr>\n",
       "    <tr>\n",
       "      <th>1</th>\n",
       "      <td>1</td>\n",
       "      <td>85</td>\n",
       "      <td>66</td>\n",
       "      <td>29</td>\n",
       "      <td>0</td>\n",
       "      <td>26.6</td>\n",
       "      <td>0.351</td>\n",
       "      <td>31</td>\n",
       "      <td>0</td>\n",
       "    </tr>\n",
       "    <tr>\n",
       "      <th>2</th>\n",
       "      <td>8</td>\n",
       "      <td>183</td>\n",
       "      <td>64</td>\n",
       "      <td>0</td>\n",
       "      <td>0</td>\n",
       "      <td>23.3</td>\n",
       "      <td>0.672</td>\n",
       "      <td>32</td>\n",
       "      <td>1</td>\n",
       "    </tr>\n",
       "    <tr>\n",
       "      <th>3</th>\n",
       "      <td>1</td>\n",
       "      <td>89</td>\n",
       "      <td>66</td>\n",
       "      <td>23</td>\n",
       "      <td>94</td>\n",
       "      <td>28.1</td>\n",
       "      <td>0.167</td>\n",
       "      <td>21</td>\n",
       "      <td>0</td>\n",
       "    </tr>\n",
       "    <tr>\n",
       "      <th>4</th>\n",
       "      <td>0</td>\n",
       "      <td>137</td>\n",
       "      <td>40</td>\n",
       "      <td>35</td>\n",
       "      <td>168</td>\n",
       "      <td>43.1</td>\n",
       "      <td>2.288</td>\n",
       "      <td>33</td>\n",
       "      <td>1</td>\n",
       "    </tr>\n",
       "  </tbody>\n",
       "</table>\n",
       "</div>"
      ],
      "text/plain": [
       "   Pregnancies  Glucose  BloodPressure  SkinThickness  Insulin   BMI  \\\n",
       "0            6      148             72             35        0  33.6   \n",
       "1            1       85             66             29        0  26.6   \n",
       "2            8      183             64              0        0  23.3   \n",
       "3            1       89             66             23       94  28.1   \n",
       "4            0      137             40             35      168  43.1   \n",
       "\n",
       "   DiabetesPedigreeFunction  Age  Outcome  \n",
       "0                     0.627   50        1  \n",
       "1                     0.351   31        0  \n",
       "2                     0.672   32        1  \n",
       "3                     0.167   21        0  \n",
       "4                     2.288   33        1  "
      ]
     },
     "execution_count": 6,
     "metadata": {},
     "output_type": "execute_result"
    }
   ],
   "source": [
    "dataset.head(5)"
   ]
  },
  {
   "cell_type": "code",
   "execution_count": 7,
   "metadata": {},
   "outputs": [],
   "source": [
    "common_age = dataset['Age'].value_counts()"
   ]
  },
  {
   "cell_type": "code",
   "execution_count": 8,
   "metadata": {},
   "outputs": [
    {
     "data": {
      "text/plain": [
       "Age\n",
       "22    72\n",
       "21    63\n",
       "25    48\n",
       "24    46\n",
       "23    38\n",
       "Name: count, dtype: int64"
      ]
     },
     "execution_count": 8,
     "metadata": {},
     "output_type": "execute_result"
    }
   ],
   "source": [
    "common_age.head()"
   ]
  },
  {
   "cell_type": "code",
   "execution_count": 9,
   "metadata": {},
   "outputs": [
    {
     "data": {
      "text/plain": [
       "False"
      ]
     },
     "execution_count": 9,
     "metadata": {},
     "output_type": "execute_result"
    }
   ],
   "source": [
    "# check if any null value is present\n",
    "dataset.isnull().values.any()"
   ]
  },
  {
   "cell_type": "code",
   "execution_count": 10,
   "metadata": {},
   "outputs": [
    {
     "data": {
      "text/html": [
       "<div>\n",
       "<style scoped>\n",
       "    .dataframe tbody tr th:only-of-type {\n",
       "        vertical-align: middle;\n",
       "    }\n",
       "\n",
       "    .dataframe tbody tr th {\n",
       "        vertical-align: top;\n",
       "    }\n",
       "\n",
       "    .dataframe thead th {\n",
       "        text-align: right;\n",
       "    }\n",
       "</style>\n",
       "<table border=\"1\" class=\"dataframe\">\n",
       "  <thead>\n",
       "    <tr style=\"text-align: right;\">\n",
       "      <th></th>\n",
       "      <th>Pregnancies</th>\n",
       "      <th>Glucose</th>\n",
       "      <th>BloodPressure</th>\n",
       "      <th>SkinThickness</th>\n",
       "      <th>Insulin</th>\n",
       "      <th>BMI</th>\n",
       "      <th>DiabetesPedigreeFunction</th>\n",
       "      <th>Age</th>\n",
       "      <th>Outcome</th>\n",
       "    </tr>\n",
       "  </thead>\n",
       "  <tbody>\n",
       "    <tr>\n",
       "      <th>count</th>\n",
       "      <td>768.000000</td>\n",
       "      <td>768.000000</td>\n",
       "      <td>768.000000</td>\n",
       "      <td>768.000000</td>\n",
       "      <td>768.000000</td>\n",
       "      <td>768.000000</td>\n",
       "      <td>768.000000</td>\n",
       "      <td>768.000000</td>\n",
       "      <td>768.000000</td>\n",
       "    </tr>\n",
       "    <tr>\n",
       "      <th>mean</th>\n",
       "      <td>3.845052</td>\n",
       "      <td>120.894531</td>\n",
       "      <td>69.105469</td>\n",
       "      <td>20.536458</td>\n",
       "      <td>79.799479</td>\n",
       "      <td>31.992578</td>\n",
       "      <td>0.471876</td>\n",
       "      <td>33.240885</td>\n",
       "      <td>0.348958</td>\n",
       "    </tr>\n",
       "    <tr>\n",
       "      <th>std</th>\n",
       "      <td>3.369578</td>\n",
       "      <td>31.972618</td>\n",
       "      <td>19.355807</td>\n",
       "      <td>15.952218</td>\n",
       "      <td>115.244002</td>\n",
       "      <td>7.884160</td>\n",
       "      <td>0.331329</td>\n",
       "      <td>11.760232</td>\n",
       "      <td>0.476951</td>\n",
       "    </tr>\n",
       "    <tr>\n",
       "      <th>min</th>\n",
       "      <td>0.000000</td>\n",
       "      <td>0.000000</td>\n",
       "      <td>0.000000</td>\n",
       "      <td>0.000000</td>\n",
       "      <td>0.000000</td>\n",
       "      <td>0.000000</td>\n",
       "      <td>0.078000</td>\n",
       "      <td>21.000000</td>\n",
       "      <td>0.000000</td>\n",
       "    </tr>\n",
       "    <tr>\n",
       "      <th>25%</th>\n",
       "      <td>1.000000</td>\n",
       "      <td>99.000000</td>\n",
       "      <td>62.000000</td>\n",
       "      <td>0.000000</td>\n",
       "      <td>0.000000</td>\n",
       "      <td>27.300000</td>\n",
       "      <td>0.243750</td>\n",
       "      <td>24.000000</td>\n",
       "      <td>0.000000</td>\n",
       "    </tr>\n",
       "    <tr>\n",
       "      <th>50%</th>\n",
       "      <td>3.000000</td>\n",
       "      <td>117.000000</td>\n",
       "      <td>72.000000</td>\n",
       "      <td>23.000000</td>\n",
       "      <td>30.500000</td>\n",
       "      <td>32.000000</td>\n",
       "      <td>0.372500</td>\n",
       "      <td>29.000000</td>\n",
       "      <td>0.000000</td>\n",
       "    </tr>\n",
       "    <tr>\n",
       "      <th>75%</th>\n",
       "      <td>6.000000</td>\n",
       "      <td>140.250000</td>\n",
       "      <td>80.000000</td>\n",
       "      <td>32.000000</td>\n",
       "      <td>127.250000</td>\n",
       "      <td>36.600000</td>\n",
       "      <td>0.626250</td>\n",
       "      <td>41.000000</td>\n",
       "      <td>1.000000</td>\n",
       "    </tr>\n",
       "    <tr>\n",
       "      <th>max</th>\n",
       "      <td>17.000000</td>\n",
       "      <td>199.000000</td>\n",
       "      <td>122.000000</td>\n",
       "      <td>99.000000</td>\n",
       "      <td>846.000000</td>\n",
       "      <td>67.100000</td>\n",
       "      <td>2.420000</td>\n",
       "      <td>81.000000</td>\n",
       "      <td>1.000000</td>\n",
       "    </tr>\n",
       "  </tbody>\n",
       "</table>\n",
       "</div>"
      ],
      "text/plain": [
       "       Pregnancies     Glucose  BloodPressure  SkinThickness     Insulin  \\\n",
       "count   768.000000  768.000000     768.000000     768.000000  768.000000   \n",
       "mean      3.845052  120.894531      69.105469      20.536458   79.799479   \n",
       "std       3.369578   31.972618      19.355807      15.952218  115.244002   \n",
       "min       0.000000    0.000000       0.000000       0.000000    0.000000   \n",
       "25%       1.000000   99.000000      62.000000       0.000000    0.000000   \n",
       "50%       3.000000  117.000000      72.000000      23.000000   30.500000   \n",
       "75%       6.000000  140.250000      80.000000      32.000000  127.250000   \n",
       "max      17.000000  199.000000     122.000000      99.000000  846.000000   \n",
       "\n",
       "              BMI  DiabetesPedigreeFunction         Age     Outcome  \n",
       "count  768.000000                768.000000  768.000000  768.000000  \n",
       "mean    31.992578                  0.471876   33.240885    0.348958  \n",
       "std      7.884160                  0.331329   11.760232    0.476951  \n",
       "min      0.000000                  0.078000   21.000000    0.000000  \n",
       "25%     27.300000                  0.243750   24.000000    0.000000  \n",
       "50%     32.000000                  0.372500   29.000000    0.000000  \n",
       "75%     36.600000                  0.626250   41.000000    1.000000  \n",
       "max     67.100000                  2.420000   81.000000    1.000000  "
      ]
     },
     "execution_count": 10,
     "metadata": {},
     "output_type": "execute_result"
    }
   ],
   "source": [
    "dataset.describe()"
   ]
  },
  {
   "cell_type": "code",
   "execution_count": 11,
   "metadata": {},
   "outputs": [
    {
     "data": {
      "text/plain": [
       "Outcome\n",
       "0    500\n",
       "1    268\n",
       "Name: count, dtype: int64"
      ]
     },
     "execution_count": 11,
     "metadata": {},
     "output_type": "execute_result"
    }
   ],
   "source": [
    "# Checking number of peoples in the datset that are diabetic and non-diabetic\n",
    "dataset['Outcome'].value_counts()"
   ]
  },
  {
   "cell_type": "markdown",
   "metadata": {},
   "source": [
    "Here, 0 --> Non-Diabetic 1 --> Diabetic"
   ]
  },
  {
   "cell_type": "code",
   "execution_count": 12,
   "metadata": {},
   "outputs": [],
   "source": [
    "diabetes_true_count = len(dataset.loc[dataset['Outcome'] == True])\n",
    "diabetes_false_count = len(dataset.loc[dataset['Outcome'] == False])"
   ]
  },
  {
   "cell_type": "code",
   "execution_count": 13,
   "metadata": {},
   "outputs": [
    {
     "data": {
      "text/plain": [
       "(268, 500)"
      ]
     },
     "execution_count": 13,
     "metadata": {},
     "output_type": "execute_result"
    }
   ],
   "source": [
    "(diabetes_true_count,diabetes_false_count)"
   ]
  },
  {
   "cell_type": "code",
   "execution_count": 14,
   "metadata": {},
   "outputs": [],
   "source": [
    "#X = dataset.drop(columns='Outcome',axis=1)\n",
    "#Y = dataset['Outcome']"
   ]
  },
  {
   "cell_type": "code",
   "execution_count": 15,
   "metadata": {},
   "outputs": [],
   "source": [
    "from sklearn.model_selection import train_test_split\n",
    "#feature_columns = ['Pregnancies', 'Glucose', 'BloodPressure', 'SkinThickness', 'Insulin', 'BMI', 'DiabetesPedigreeFunction', 'Age']\n",
    "#predicted_class = ['Outcome']\n",
    "X_train, X_test, y_train, y_test = train_test_split(X, y, test_size = 0.2, random_state = 0)"
   ]
  },
  {
   "cell_type": "code",
   "execution_count": 16,
   "metadata": {},
   "outputs": [],
   "source": [
    "#X = dataset[feature_columns].values\n",
    "#Y = dataset[predicted_class].values\n",
    "\n",
    "\n",
    "#X_train, X_test, y_train, y_test = train_test_split(X, Y, test_size = 0.30, random_state=10)"
   ]
  },
  {
   "cell_type": "code",
   "execution_count": 17,
   "metadata": {},
   "outputs": [],
   "source": [
    "from sklearn.preprocessing import StandardScaler\n",
    "sc = StandardScaler()\n",
    "X_train = sc.fit_transform(X_train)\n",
    "X_test = sc.transform(X_test)"
   ]
  },
  {
   "cell_type": "code",
   "execution_count": 18,
   "metadata": {},
   "outputs": [],
   "source": [
    "#Check how many other missing(zero) values\n",
    "#print(\"total number of rows : {0}\".format(len(dataset)))\n",
    "#print(\"number of rows missing Glucose: {0}\".format(len(dataset.loc[dataset['Glucose'] == 0])))\n",
    "#print(\"number of rows missing BloodPressure: {0}\".format(len(dataset.loc[dataset['BloodPressure'] == 0])))\n",
    "#print(\"number of rows missing SkinThickness: {0}\".format(len(dataset.loc[dataset['SkinThickness'] == 0])))\n",
    "#print(\"number of rows missing Insulin: {0}\".format(len(dataset.loc[dataset['Insulin'] == 0])))\n",
    "#print(\"number of rows missing BMI: {0}\".format(len(dataset.loc[dataset['BMI'] == 0])))\n",
    "#print(\"number of rows missing DiabetesPedigreeFunction: {0}\".format(len(dataset.loc[dataset['DiabetesPedigreeFunction'] == 0])))\n",
    "#print(\"number of rows missing Age: {0}\".format(len(dataset.loc[dataset['Age'] == 0])))"
   ]
  },
  {
   "cell_type": "code",
   "execution_count": 19,
   "metadata": {},
   "outputs": [],
   "source": [
    "#from sklearn.preprocessing import Imputer\n",
    "#from sklearn.impute import SimpleImputer \n",
    "#fill_values = SimpleImputer(missing_values=0, strategy=\"mean\")\n",
    "\n",
    "##X_test = fill_values.fit_transform(X_test)"
   ]
  },
  {
   "cell_type": "code",
   "execution_count": 20,
   "metadata": {},
   "outputs": [
    {
     "data": {
      "text/html": [
       "<style>#sk-container-id-1 {color: black;}#sk-container-id-1 pre{padding: 0;}#sk-container-id-1 div.sk-toggleable {background-color: white;}#sk-container-id-1 label.sk-toggleable__label {cursor: pointer;display: block;width: 100%;margin-bottom: 0;padding: 0.3em;box-sizing: border-box;text-align: center;}#sk-container-id-1 label.sk-toggleable__label-arrow:before {content: \"▸\";float: left;margin-right: 0.25em;color: #696969;}#sk-container-id-1 label.sk-toggleable__label-arrow:hover:before {color: black;}#sk-container-id-1 div.sk-estimator:hover label.sk-toggleable__label-arrow:before {color: black;}#sk-container-id-1 div.sk-toggleable__content {max-height: 0;max-width: 0;overflow: hidden;text-align: left;background-color: #f0f8ff;}#sk-container-id-1 div.sk-toggleable__content pre {margin: 0.2em;color: black;border-radius: 0.25em;background-color: #f0f8ff;}#sk-container-id-1 input.sk-toggleable__control:checked~div.sk-toggleable__content {max-height: 200px;max-width: 100%;overflow: auto;}#sk-container-id-1 input.sk-toggleable__control:checked~label.sk-toggleable__label-arrow:before {content: \"▾\";}#sk-container-id-1 div.sk-estimator input.sk-toggleable__control:checked~label.sk-toggleable__label {background-color: #d4ebff;}#sk-container-id-1 div.sk-label input.sk-toggleable__control:checked~label.sk-toggleable__label {background-color: #d4ebff;}#sk-container-id-1 input.sk-hidden--visually {border: 0;clip: rect(1px 1px 1px 1px);clip: rect(1px, 1px, 1px, 1px);height: 1px;margin: -1px;overflow: hidden;padding: 0;position: absolute;width: 1px;}#sk-container-id-1 div.sk-estimator {font-family: monospace;background-color: #f0f8ff;border: 1px dotted black;border-radius: 0.25em;box-sizing: border-box;margin-bottom: 0.5em;}#sk-container-id-1 div.sk-estimator:hover {background-color: #d4ebff;}#sk-container-id-1 div.sk-parallel-item::after {content: \"\";width: 100%;border-bottom: 1px solid gray;flex-grow: 1;}#sk-container-id-1 div.sk-label:hover label.sk-toggleable__label {background-color: #d4ebff;}#sk-container-id-1 div.sk-serial::before {content: \"\";position: absolute;border-left: 1px solid gray;box-sizing: border-box;top: 0;bottom: 0;left: 50%;z-index: 0;}#sk-container-id-1 div.sk-serial {display: flex;flex-direction: column;align-items: center;background-color: white;padding-right: 0.2em;padding-left: 0.2em;position: relative;}#sk-container-id-1 div.sk-item {position: relative;z-index: 1;}#sk-container-id-1 div.sk-parallel {display: flex;align-items: stretch;justify-content: center;background-color: white;position: relative;}#sk-container-id-1 div.sk-item::before, #sk-container-id-1 div.sk-parallel-item::before {content: \"\";position: absolute;border-left: 1px solid gray;box-sizing: border-box;top: 0;bottom: 0;left: 50%;z-index: -1;}#sk-container-id-1 div.sk-parallel-item {display: flex;flex-direction: column;z-index: 1;position: relative;background-color: white;}#sk-container-id-1 div.sk-parallel-item:first-child::after {align-self: flex-end;width: 50%;}#sk-container-id-1 div.sk-parallel-item:last-child::after {align-self: flex-start;width: 50%;}#sk-container-id-1 div.sk-parallel-item:only-child::after {width: 0;}#sk-container-id-1 div.sk-dashed-wrapped {border: 1px dashed gray;margin: 0 0.4em 0.5em 0.4em;box-sizing: border-box;padding-bottom: 0.4em;background-color: white;}#sk-container-id-1 div.sk-label label {font-family: monospace;font-weight: bold;display: inline-block;line-height: 1.2em;}#sk-container-id-1 div.sk-label-container {text-align: center;}#sk-container-id-1 div.sk-container {/* jupyter's `normalize.less` sets `[hidden] { display: none; }` but bootstrap.min.css set `[hidden] { display: none !important; }` so we also need the `!important` here to be able to override the default hidden behavior on the sphinx rendered scikit-learn.org. See: https://github.com/scikit-learn/scikit-learn/issues/21755 */display: inline-block !important;position: relative;}#sk-container-id-1 div.sk-text-repr-fallback {display: none;}</style><div id=\"sk-container-id-1\" class=\"sk-top-container\"><div class=\"sk-text-repr-fallback\"><pre>RandomForestClassifier(random_state=10)</pre><b>In a Jupyter environment, please rerun this cell to show the HTML representation or trust the notebook. <br />On GitHub, the HTML representation is unable to render, please try loading this page with nbviewer.org.</b></div><div class=\"sk-container\" hidden><div class=\"sk-item\"><div class=\"sk-estimator sk-toggleable\"><input class=\"sk-toggleable__control sk-hidden--visually\" id=\"sk-estimator-id-1\" type=\"checkbox\" checked><label for=\"sk-estimator-id-1\" class=\"sk-toggleable__label sk-toggleable__label-arrow\">RandomForestClassifier</label><div class=\"sk-toggleable__content\"><pre>RandomForestClassifier(random_state=10)</pre></div></div></div></div></div>"
      ],
      "text/plain": [
       "RandomForestClassifier(random_state=10)"
      ]
     },
     "execution_count": 20,
     "metadata": {},
     "output_type": "execute_result"
    }
   ],
   "source": [
    "from sklearn.ensemble import RandomForestClassifier\n",
    "random_forest_model = RandomForestClassifier(random_state=10)\n",
    "\n",
    "random_forest_model.fit(X_train, y_train.ravel())"
   ]
  },
  {
   "cell_type": "code",
   "execution_count": 21,
   "metadata": {},
   "outputs": [
    {
     "name": "stdout",
     "output_type": "stream",
     "text": [
      "Accuracy = 0.805\n"
     ]
    }
   ],
   "source": [
    "predict_train_data = random_forest_model.predict(X_test)\n",
    "\n",
    "from sklearn import metrics\n",
    "\n",
    "print(\"Accuracy = {0:.3f}\".format(metrics.accuracy_score(y_test, predict_train_data)))"
   ]
  },
  {
   "cell_type": "code",
   "execution_count": 22,
   "metadata": {},
   "outputs": [
    {
     "name": "stdout",
     "output_type": "stream",
     "text": [
      "[[-0.8354355  -0.18549586  0.03960159  0.58457246  0.11808927  0.3026523\n",
      "   0.18781421 -2.2150278 ]]\n",
      "The person is Non-Diabetic\n"
     ]
    },
    {
     "name": "stderr",
     "output_type": "stream",
     "text": [
      "c:\\Users\\Sam Baqri\\Newfolder\\Lib\\site-packages\\sklearn\\base.py:464: UserWarning: X does not have valid feature names, but StandardScaler was fitted with feature names\n",
      "  warnings.warn(\n"
     ]
    }
   ],
   "source": [
    "input_data = (1,115,70,30,96,34.6,0.529,7)\n",
    "\n",
    "# changing to numpy array\n",
    "data_changed = np.asarray(input_data)\n",
    "\n",
    "# Reshaping as we are predicting for one instance only\n",
    "data_reshaped = data_changed.reshape(1,-1)\n",
    "\n",
    "#standarising the input data\n",
    "std_data = sc.transform(data_reshaped)\n",
    "print(std_data)\n",
    "\n",
    "#predicting output \n",
    "prediction = random_forest_model.predict(std_data)\n",
    "if prediction == 1:\n",
    "  print('The person is Diabetic')\n",
    "else:\n",
    "  print('The person is Non-Diabetic')"
   ]
  },
  {
   "cell_type": "code",
   "execution_count": 23,
   "metadata": {},
   "outputs": [
    {
     "data": {
      "text/html": [
       "<style>#sk-container-id-2 {color: black;}#sk-container-id-2 pre{padding: 0;}#sk-container-id-2 div.sk-toggleable {background-color: white;}#sk-container-id-2 label.sk-toggleable__label {cursor: pointer;display: block;width: 100%;margin-bottom: 0;padding: 0.3em;box-sizing: border-box;text-align: center;}#sk-container-id-2 label.sk-toggleable__label-arrow:before {content: \"▸\";float: left;margin-right: 0.25em;color: #696969;}#sk-container-id-2 label.sk-toggleable__label-arrow:hover:before {color: black;}#sk-container-id-2 div.sk-estimator:hover label.sk-toggleable__label-arrow:before {color: black;}#sk-container-id-2 div.sk-toggleable__content {max-height: 0;max-width: 0;overflow: hidden;text-align: left;background-color: #f0f8ff;}#sk-container-id-2 div.sk-toggleable__content pre {margin: 0.2em;color: black;border-radius: 0.25em;background-color: #f0f8ff;}#sk-container-id-2 input.sk-toggleable__control:checked~div.sk-toggleable__content {max-height: 200px;max-width: 100%;overflow: auto;}#sk-container-id-2 input.sk-toggleable__control:checked~label.sk-toggleable__label-arrow:before {content: \"▾\";}#sk-container-id-2 div.sk-estimator input.sk-toggleable__control:checked~label.sk-toggleable__label {background-color: #d4ebff;}#sk-container-id-2 div.sk-label input.sk-toggleable__control:checked~label.sk-toggleable__label {background-color: #d4ebff;}#sk-container-id-2 input.sk-hidden--visually {border: 0;clip: rect(1px 1px 1px 1px);clip: rect(1px, 1px, 1px, 1px);height: 1px;margin: -1px;overflow: hidden;padding: 0;position: absolute;width: 1px;}#sk-container-id-2 div.sk-estimator {font-family: monospace;background-color: #f0f8ff;border: 1px dotted black;border-radius: 0.25em;box-sizing: border-box;margin-bottom: 0.5em;}#sk-container-id-2 div.sk-estimator:hover {background-color: #d4ebff;}#sk-container-id-2 div.sk-parallel-item::after {content: \"\";width: 100%;border-bottom: 1px solid gray;flex-grow: 1;}#sk-container-id-2 div.sk-label:hover label.sk-toggleable__label {background-color: #d4ebff;}#sk-container-id-2 div.sk-serial::before {content: \"\";position: absolute;border-left: 1px solid gray;box-sizing: border-box;top: 0;bottom: 0;left: 50%;z-index: 0;}#sk-container-id-2 div.sk-serial {display: flex;flex-direction: column;align-items: center;background-color: white;padding-right: 0.2em;padding-left: 0.2em;position: relative;}#sk-container-id-2 div.sk-item {position: relative;z-index: 1;}#sk-container-id-2 div.sk-parallel {display: flex;align-items: stretch;justify-content: center;background-color: white;position: relative;}#sk-container-id-2 div.sk-item::before, #sk-container-id-2 div.sk-parallel-item::before {content: \"\";position: absolute;border-left: 1px solid gray;box-sizing: border-box;top: 0;bottom: 0;left: 50%;z-index: -1;}#sk-container-id-2 div.sk-parallel-item {display: flex;flex-direction: column;z-index: 1;position: relative;background-color: white;}#sk-container-id-2 div.sk-parallel-item:first-child::after {align-self: flex-end;width: 50%;}#sk-container-id-2 div.sk-parallel-item:last-child::after {align-self: flex-start;width: 50%;}#sk-container-id-2 div.sk-parallel-item:only-child::after {width: 0;}#sk-container-id-2 div.sk-dashed-wrapped {border: 1px dashed gray;margin: 0 0.4em 0.5em 0.4em;box-sizing: border-box;padding-bottom: 0.4em;background-color: white;}#sk-container-id-2 div.sk-label label {font-family: monospace;font-weight: bold;display: inline-block;line-height: 1.2em;}#sk-container-id-2 div.sk-label-container {text-align: center;}#sk-container-id-2 div.sk-container {/* jupyter's `normalize.less` sets `[hidden] { display: none; }` but bootstrap.min.css set `[hidden] { display: none !important; }` so we also need the `!important` here to be able to override the default hidden behavior on the sphinx rendered scikit-learn.org. See: https://github.com/scikit-learn/scikit-learn/issues/21755 */display: inline-block !important;position: relative;}#sk-container-id-2 div.sk-text-repr-fallback {display: none;}</style><div id=\"sk-container-id-2\" class=\"sk-top-container\"><div class=\"sk-text-repr-fallback\"><pre>LogisticRegression()</pre><b>In a Jupyter environment, please rerun this cell to show the HTML representation or trust the notebook. <br />On GitHub, the HTML representation is unable to render, please try loading this page with nbviewer.org.</b></div><div class=\"sk-container\" hidden><div class=\"sk-item\"><div class=\"sk-estimator sk-toggleable\"><input class=\"sk-toggleable__control sk-hidden--visually\" id=\"sk-estimator-id-2\" type=\"checkbox\" checked><label for=\"sk-estimator-id-2\" class=\"sk-toggleable__label sk-toggleable__label-arrow\">LogisticRegression</label><div class=\"sk-toggleable__content\"><pre>LogisticRegression()</pre></div></div></div></div></div>"
      ],
      "text/plain": [
       "LogisticRegression()"
      ]
     },
     "execution_count": 23,
     "metadata": {},
     "output_type": "execute_result"
    }
   ],
   "source": [
    "from sklearn.linear_model import LogisticRegression  \n",
    "logistic_regression_model= LogisticRegression()  \n",
    "logistic_regression_model.fit(X_train, y_train)  "
   ]
  },
  {
   "cell_type": "code",
   "execution_count": 24,
   "metadata": {},
   "outputs": [
    {
     "name": "stdout",
     "output_type": "stream",
     "text": [
      "Accuracy = 0.825\n"
     ]
    }
   ],
   "source": [
    "predict_train_data = logistic_regression_model.predict(X_test)\n",
    "\n",
    "from sklearn import metrics\n",
    "\n",
    "print(\"Accuracy = {0:.3f}\".format(metrics.accuracy_score(y_test, predict_train_data)))"
   ]
  },
  {
   "cell_type": "code",
   "execution_count": 25,
   "metadata": {},
   "outputs": [
    {
     "name": "stdout",
     "output_type": "stream",
     "text": [
      "[[-0.8354355  -1.50692331 -0.98420365 -0.66235299 -0.69965674 -1.16424852\n",
      "  -0.65620258 -1.04898095]]\n",
      "The person is Non-Diabetic\n"
     ]
    },
    {
     "name": "stderr",
     "output_type": "stream",
     "text": [
      "c:\\Users\\Sam Baqri\\Newfolder\\Lib\\site-packages\\sklearn\\base.py:464: UserWarning: X does not have valid feature names, but StandardScaler was fitted with feature names\n",
      "  warnings.warn(\n"
     ]
    }
   ],
   "source": [
    "input_data = (1,73,50,10,0,23,0.248,21)\n",
    "\n",
    "# changing to numpy array\n",
    "data_changed = np.asarray(input_data)\n",
    "\n",
    "# Reshaping as we are predicting for one instance only\n",
    "data_reshaped = data_changed.reshape(1,-1)\n",
    "\n",
    "#standarising the input data\n",
    "std_data = sc.transform(data_reshaped)\n",
    "print(std_data)\n",
    "\n",
    "#predicting output \n",
    "prediction = logistic_regression_model.predict(std_data)\n",
    "if prediction == 1:\n",
    "  print('The person is Diabetic')\n",
    "else:\n",
    "  print('The person is Non-Diabetic')"
   ]
  },
  {
   "cell_type": "code",
   "execution_count": 26,
   "metadata": {},
   "outputs": [],
   "source": [
    "from sklearn import svm\n",
    "svm_model = svm.SVC(kernel='linear')"
   ]
  },
  {
   "cell_type": "code",
   "execution_count": 27,
   "metadata": {},
   "outputs": [
    {
     "data": {
      "text/html": [
       "<style>#sk-container-id-3 {color: black;}#sk-container-id-3 pre{padding: 0;}#sk-container-id-3 div.sk-toggleable {background-color: white;}#sk-container-id-3 label.sk-toggleable__label {cursor: pointer;display: block;width: 100%;margin-bottom: 0;padding: 0.3em;box-sizing: border-box;text-align: center;}#sk-container-id-3 label.sk-toggleable__label-arrow:before {content: \"▸\";float: left;margin-right: 0.25em;color: #696969;}#sk-container-id-3 label.sk-toggleable__label-arrow:hover:before {color: black;}#sk-container-id-3 div.sk-estimator:hover label.sk-toggleable__label-arrow:before {color: black;}#sk-container-id-3 div.sk-toggleable__content {max-height: 0;max-width: 0;overflow: hidden;text-align: left;background-color: #f0f8ff;}#sk-container-id-3 div.sk-toggleable__content pre {margin: 0.2em;color: black;border-radius: 0.25em;background-color: #f0f8ff;}#sk-container-id-3 input.sk-toggleable__control:checked~div.sk-toggleable__content {max-height: 200px;max-width: 100%;overflow: auto;}#sk-container-id-3 input.sk-toggleable__control:checked~label.sk-toggleable__label-arrow:before {content: \"▾\";}#sk-container-id-3 div.sk-estimator input.sk-toggleable__control:checked~label.sk-toggleable__label {background-color: #d4ebff;}#sk-container-id-3 div.sk-label input.sk-toggleable__control:checked~label.sk-toggleable__label {background-color: #d4ebff;}#sk-container-id-3 input.sk-hidden--visually {border: 0;clip: rect(1px 1px 1px 1px);clip: rect(1px, 1px, 1px, 1px);height: 1px;margin: -1px;overflow: hidden;padding: 0;position: absolute;width: 1px;}#sk-container-id-3 div.sk-estimator {font-family: monospace;background-color: #f0f8ff;border: 1px dotted black;border-radius: 0.25em;box-sizing: border-box;margin-bottom: 0.5em;}#sk-container-id-3 div.sk-estimator:hover {background-color: #d4ebff;}#sk-container-id-3 div.sk-parallel-item::after {content: \"\";width: 100%;border-bottom: 1px solid gray;flex-grow: 1;}#sk-container-id-3 div.sk-label:hover label.sk-toggleable__label {background-color: #d4ebff;}#sk-container-id-3 div.sk-serial::before {content: \"\";position: absolute;border-left: 1px solid gray;box-sizing: border-box;top: 0;bottom: 0;left: 50%;z-index: 0;}#sk-container-id-3 div.sk-serial {display: flex;flex-direction: column;align-items: center;background-color: white;padding-right: 0.2em;padding-left: 0.2em;position: relative;}#sk-container-id-3 div.sk-item {position: relative;z-index: 1;}#sk-container-id-3 div.sk-parallel {display: flex;align-items: stretch;justify-content: center;background-color: white;position: relative;}#sk-container-id-3 div.sk-item::before, #sk-container-id-3 div.sk-parallel-item::before {content: \"\";position: absolute;border-left: 1px solid gray;box-sizing: border-box;top: 0;bottom: 0;left: 50%;z-index: -1;}#sk-container-id-3 div.sk-parallel-item {display: flex;flex-direction: column;z-index: 1;position: relative;background-color: white;}#sk-container-id-3 div.sk-parallel-item:first-child::after {align-self: flex-end;width: 50%;}#sk-container-id-3 div.sk-parallel-item:last-child::after {align-self: flex-start;width: 50%;}#sk-container-id-3 div.sk-parallel-item:only-child::after {width: 0;}#sk-container-id-3 div.sk-dashed-wrapped {border: 1px dashed gray;margin: 0 0.4em 0.5em 0.4em;box-sizing: border-box;padding-bottom: 0.4em;background-color: white;}#sk-container-id-3 div.sk-label label {font-family: monospace;font-weight: bold;display: inline-block;line-height: 1.2em;}#sk-container-id-3 div.sk-label-container {text-align: center;}#sk-container-id-3 div.sk-container {/* jupyter's `normalize.less` sets `[hidden] { display: none; }` but bootstrap.min.css set `[hidden] { display: none !important; }` so we also need the `!important` here to be able to override the default hidden behavior on the sphinx rendered scikit-learn.org. See: https://github.com/scikit-learn/scikit-learn/issues/21755 */display: inline-block !important;position: relative;}#sk-container-id-3 div.sk-text-repr-fallback {display: none;}</style><div id=\"sk-container-id-3\" class=\"sk-top-container\"><div class=\"sk-text-repr-fallback\"><pre>SVC(kernel=&#x27;linear&#x27;)</pre><b>In a Jupyter environment, please rerun this cell to show the HTML representation or trust the notebook. <br />On GitHub, the HTML representation is unable to render, please try loading this page with nbviewer.org.</b></div><div class=\"sk-container\" hidden><div class=\"sk-item\"><div class=\"sk-estimator sk-toggleable\"><input class=\"sk-toggleable__control sk-hidden--visually\" id=\"sk-estimator-id-3\" type=\"checkbox\" checked><label for=\"sk-estimator-id-3\" class=\"sk-toggleable__label sk-toggleable__label-arrow\">SVC</label><div class=\"sk-toggleable__content\"><pre>SVC(kernel=&#x27;linear&#x27;)</pre></div></div></div></div></div>"
      ],
      "text/plain": [
       "SVC(kernel='linear')"
      ]
     },
     "execution_count": 27,
     "metadata": {},
     "output_type": "execute_result"
    }
   ],
   "source": [
    "svm_model.fit(X_train, y_train)"
   ]
  },
  {
   "cell_type": "code",
   "execution_count": 28,
   "metadata": {},
   "outputs": [
    {
     "name": "stdout",
     "output_type": "stream",
     "text": [
      "Accuracy = 0.825\n"
     ]
    }
   ],
   "source": [
    "predict_train_data = svm_model.predict(X_test)\n",
    "\n",
    "from sklearn import metrics\n",
    "\n",
    "print(\"Accuracy = {0:.3f}\".format(metrics.accuracy_score(y_test, predict_train_data)))"
   ]
  },
  {
   "cell_type": "code",
   "execution_count": 29,
   "metadata": {},
   "outputs": [
    {
     "name": "stdout",
     "output_type": "stream",
     "text": [
      "[[-0.8354355  -1.50692331 -0.98420365 -0.66235299 -0.69965674 -1.16424852\n",
      "  -0.65620258 -1.04898095]]\n",
      "The person is Non-Diabetic\n"
     ]
    },
    {
     "name": "stderr",
     "output_type": "stream",
     "text": [
      "c:\\Users\\Sam Baqri\\Newfolder\\Lib\\site-packages\\sklearn\\base.py:464: UserWarning: X does not have valid feature names, but StandardScaler was fitted with feature names\n",
      "  warnings.warn(\n"
     ]
    }
   ],
   "source": [
    "input_data = (1,73,50,10,0,23,0.248,21)\n",
    "#0=1,73,50,10,0,23,0.248,21\n",
    "#1=7,187,68,39,304,37.7,0.254,41\n",
    "# changing to numpy array\n",
    "data_changed = np.asarray(input_data)\n",
    "\n",
    "# Reshaping as we are predicting for one instance only\n",
    "data_reshaped = data_changed.reshape(1,-1)\n",
    "\n",
    "#standarising the input data\n",
    "std_data = sc.transform(data_reshaped)\n",
    "print(std_data)\n",
    "\n",
    "#predicting output \n",
    "prediction = svm_model.predict(std_data)\n",
    "if prediction == 1:\n",
    "  print('The person is Diabetic')\n",
    "else:\n",
    "  print('The person is Non-Diabetic')"
   ]
  },
  {
   "cell_type": "code",
   "execution_count": 30,
   "metadata": {},
   "outputs": [
    {
     "name": "stdout",
     "output_type": "stream",
     "text": [
      "c:\\Users\\Sam Baqri\\Newfolder\\python.exe\n"
     ]
    },
    {
     "name": "stderr",
     "output_type": "stream",
     "text": [
      "'c:\\Users\\Sam' is not recognized as an internal or external command,\n",
      "operable program or batch file.\n"
     ]
    }
   ],
   "source": [
    "import sys\n",
    "print(sys.executable)\n",
    "\n",
    "!{sys.executable} -m pip install tensorflow==2.15.0 keras==2.15.0"
   ]
  },
  {
   "cell_type": "code",
   "execution_count": 31,
   "metadata": {},
   "outputs": [
    {
     "name": "stdout",
     "output_type": "stream",
     "text": [
      "Requirement already satisfied: keras==2.15.0 in c:\\users\\sam baqri\\newfolder\\lib\\site-packages (2.15.0)\n",
      "Note: you may need to restart the kernel to use updated packages.\n"
     ]
    }
   ],
   "source": [
    "%pip install keras==2.15.0"
   ]
  },
  {
   "cell_type": "code",
   "execution_count": 32,
   "metadata": {},
   "outputs": [
    {
     "name": "stdout",
     "output_type": "stream",
     "text": [
      "Requirement already satisfied: tensorflow==2.15.0 in c:\\users\\sam baqri\\newfolder\\lib\\site-packages (2.15.0)\n",
      "Requirement already satisfied: tensorflow-intel==2.15.0 in c:\\users\\sam baqri\\newfolder\\lib\\site-packages (from tensorflow==2.15.0) (2.15.0)\n",
      "Requirement already satisfied: absl-py>=1.0.0 in c:\\users\\sam baqri\\newfolder\\lib\\site-packages (from tensorflow-intel==2.15.0->tensorflow==2.15.0) (2.3.1)\n",
      "Requirement already satisfied: astunparse>=1.6.0 in c:\\users\\sam baqri\\newfolder\\lib\\site-packages (from tensorflow-intel==2.15.0->tensorflow==2.15.0) (1.6.3)\n",
      "Requirement already satisfied: flatbuffers>=23.5.26 in c:\\users\\sam baqri\\newfolder\\lib\\site-packages (from tensorflow-intel==2.15.0->tensorflow==2.15.0) (25.2.10)\n",
      "Requirement already satisfied: gast!=0.5.0,!=0.5.1,!=0.5.2,>=0.2.1 in c:\\users\\sam baqri\\newfolder\\lib\\site-packages (from tensorflow-intel==2.15.0->tensorflow==2.15.0) (0.6.0)\n",
      "Requirement already satisfied: google-pasta>=0.1.1 in c:\\users\\sam baqri\\newfolder\\lib\\site-packages (from tensorflow-intel==2.15.0->tensorflow==2.15.0) (0.2.0)\n",
      "Requirement already satisfied: h5py>=2.9.0 in c:\\users\\sam baqri\\newfolder\\lib\\site-packages (from tensorflow-intel==2.15.0->tensorflow==2.15.0) (3.14.0)\n",
      "Requirement already satisfied: libclang>=13.0.0 in c:\\users\\sam baqri\\newfolder\\lib\\site-packages (from tensorflow-intel==2.15.0->tensorflow==2.15.0) (18.1.1)\n",
      "Requirement already satisfied: ml-dtypes~=0.2.0 in c:\\users\\sam baqri\\newfolder\\lib\\site-packages (from tensorflow-intel==2.15.0->tensorflow==2.15.0) (0.2.0)\n",
      "Requirement already satisfied: numpy<2.0.0,>=1.23.5 in c:\\users\\sam baqri\\newfolder\\lib\\site-packages (from tensorflow-intel==2.15.0->tensorflow==2.15.0) (1.26.4)\n",
      "Requirement already satisfied: opt-einsum>=2.3.2 in c:\\users\\sam baqri\\newfolder\\lib\\site-packages (from tensorflow-intel==2.15.0->tensorflow==2.15.0) (3.4.0)\n",
      "Requirement already satisfied: packaging in c:\\users\\sam baqri\\newfolder\\lib\\site-packages (from tensorflow-intel==2.15.0->tensorflow==2.15.0) (23.1)\n",
      "Requirement already satisfied: protobuf!=4.21.0,!=4.21.1,!=4.21.2,!=4.21.3,!=4.21.4,!=4.21.5,<5.0.0dev,>=3.20.3 in c:\\users\\sam baqri\\newfolder\\lib\\site-packages (from tensorflow-intel==2.15.0->tensorflow==2.15.0) (4.25.8)\n",
      "Requirement already satisfied: setuptools in c:\\users\\sam baqri\\newfolder\\lib\\site-packages (from tensorflow-intel==2.15.0->tensorflow==2.15.0) (68.0.0)\n",
      "Requirement already satisfied: six>=1.12.0 in c:\\users\\sam baqri\\newfolder\\lib\\site-packages (from tensorflow-intel==2.15.0->tensorflow==2.15.0) (1.16.0)\n",
      "Requirement already satisfied: termcolor>=1.1.0 in c:\\users\\sam baqri\\newfolder\\lib\\site-packages (from tensorflow-intel==2.15.0->tensorflow==2.15.0) (3.1.0)\n",
      "Requirement already satisfied: typing-extensions>=3.6.6 in c:\\users\\sam baqri\\newfolder\\lib\\site-packages (from tensorflow-intel==2.15.0->tensorflow==2.15.0) (4.7.1)\n",
      "Requirement already satisfied: wrapt<1.15,>=1.11.0 in c:\\users\\sam baqri\\newfolder\\lib\\site-packages (from tensorflow-intel==2.15.0->tensorflow==2.15.0) (1.14.1)\n",
      "Requirement already satisfied: tensorflow-io-gcs-filesystem>=0.23.1 in c:\\users\\sam baqri\\newfolder\\lib\\site-packages (from tensorflow-intel==2.15.0->tensorflow==2.15.0) (0.31.0)\n",
      "Requirement already satisfied: grpcio<2.0,>=1.24.3 in c:\\users\\sam baqri\\newfolder\\lib\\site-packages (from tensorflow-intel==2.15.0->tensorflow==2.15.0) (1.74.0)\n",
      "Requirement already satisfied: tensorboard<2.16,>=2.15 in c:\\users\\sam baqri\\newfolder\\lib\\site-packages (from tensorflow-intel==2.15.0->tensorflow==2.15.0) (2.15.2)\n",
      "Requirement already satisfied: tensorflow-estimator<2.16,>=2.15.0 in c:\\users\\sam baqri\\newfolder\\lib\\site-packages (from tensorflow-intel==2.15.0->tensorflow==2.15.0) (2.15.0)\n",
      "Requirement already satisfied: keras<2.16,>=2.15.0 in c:\\users\\sam baqri\\newfolder\\lib\\site-packages (from tensorflow-intel==2.15.0->tensorflow==2.15.0) (2.15.0)\n",
      "Requirement already satisfied: wheel<1.0,>=0.23.0 in c:\\users\\sam baqri\\newfolder\\lib\\site-packages (from astunparse>=1.6.0->tensorflow-intel==2.15.0->tensorflow==2.15.0) (0.38.4)\n",
      "Requirement already satisfied: google-auth<3,>=1.6.3 in c:\\users\\sam baqri\\newfolder\\lib\\site-packages (from tensorboard<2.16,>=2.15->tensorflow-intel==2.15.0->tensorflow==2.15.0) (2.40.3)\n",
      "Requirement already satisfied: google-auth-oauthlib<2,>=0.5 in c:\\users\\sam baqri\\newfolder\\lib\\site-packages (from tensorboard<2.16,>=2.15->tensorflow-intel==2.15.0->tensorflow==2.15.0) (1.2.2)\n",
      "Requirement already satisfied: markdown>=2.6.8 in c:\\users\\sam baqri\\newfolder\\lib\\site-packages (from tensorboard<2.16,>=2.15->tensorflow-intel==2.15.0->tensorflow==2.15.0) (3.4.1)\n",
      "Requirement already satisfied: requests<3,>=2.21.0 in c:\\users\\sam baqri\\newfolder\\lib\\site-packages (from tensorboard<2.16,>=2.15->tensorflow-intel==2.15.0->tensorflow==2.15.0) (2.31.0)\n",
      "Requirement already satisfied: tensorboard-data-server<0.8.0,>=0.7.0 in c:\\users\\sam baqri\\newfolder\\lib\\site-packages (from tensorboard<2.16,>=2.15->tensorflow-intel==2.15.0->tensorflow==2.15.0) (0.7.2)\n",
      "Requirement already satisfied: werkzeug>=1.0.1 in c:\\users\\sam baqri\\newfolder\\lib\\site-packages (from tensorboard<2.16,>=2.15->tensorflow-intel==2.15.0->tensorflow==2.15.0) (2.2.3)\n",
      "Requirement already satisfied: cachetools<6.0,>=2.0.0 in c:\\users\\sam baqri\\newfolder\\lib\\site-packages (from google-auth<3,>=1.6.3->tensorboard<2.16,>=2.15->tensorflow-intel==2.15.0->tensorflow==2.15.0) (5.5.2)\n",
      "Requirement already satisfied: pyasn1-modules>=0.2.1 in c:\\users\\sam baqri\\newfolder\\lib\\site-packages (from google-auth<3,>=1.6.3->tensorboard<2.16,>=2.15->tensorflow-intel==2.15.0->tensorflow==2.15.0) (0.2.8)\n",
      "Requirement already satisfied: rsa<5,>=3.1.4 in c:\\users\\sam baqri\\newfolder\\lib\\site-packages (from google-auth<3,>=1.6.3->tensorboard<2.16,>=2.15->tensorflow-intel==2.15.0->tensorflow==2.15.0) (4.9.1)\n",
      "Requirement already satisfied: requests-oauthlib>=0.7.0 in c:\\users\\sam baqri\\newfolder\\lib\\site-packages (from google-auth-oauthlib<2,>=0.5->tensorboard<2.16,>=2.15->tensorflow-intel==2.15.0->tensorflow==2.15.0) (2.0.0)\n",
      "Requirement already satisfied: charset-normalizer<4,>=2 in c:\\users\\sam baqri\\newfolder\\lib\\site-packages (from requests<3,>=2.21.0->tensorboard<2.16,>=2.15->tensorflow-intel==2.15.0->tensorflow==2.15.0) (2.0.4)\n",
      "Requirement already satisfied: idna<4,>=2.5 in c:\\users\\sam baqri\\newfolder\\lib\\site-packages (from requests<3,>=2.21.0->tensorboard<2.16,>=2.15->tensorflow-intel==2.15.0->tensorflow==2.15.0) (3.4)\n",
      "Requirement already satisfied: urllib3<3,>=1.21.1 in c:\\users\\sam baqri\\newfolder\\lib\\site-packages (from requests<3,>=2.21.0->tensorboard<2.16,>=2.15->tensorflow-intel==2.15.0->tensorflow==2.15.0) (1.26.16)\n",
      "Requirement already satisfied: certifi>=2017.4.17 in c:\\users\\sam baqri\\newfolder\\lib\\site-packages (from requests<3,>=2.21.0->tensorboard<2.16,>=2.15->tensorflow-intel==2.15.0->tensorflow==2.15.0) (2023.7.22)\n",
      "Requirement already satisfied: MarkupSafe>=2.1.1 in c:\\users\\sam baqri\\newfolder\\lib\\site-packages (from werkzeug>=1.0.1->tensorboard<2.16,>=2.15->tensorflow-intel==2.15.0->tensorflow==2.15.0) (2.1.1)\n",
      "Requirement already satisfied: pyasn1<0.5.0,>=0.4.6 in c:\\users\\sam baqri\\newfolder\\lib\\site-packages (from pyasn1-modules>=0.2.1->google-auth<3,>=1.6.3->tensorboard<2.16,>=2.15->tensorflow-intel==2.15.0->tensorflow==2.15.0) (0.4.8)\n",
      "Requirement already satisfied: oauthlib>=3.0.0 in c:\\users\\sam baqri\\newfolder\\lib\\site-packages (from requests-oauthlib>=0.7.0->google-auth-oauthlib<2,>=0.5->tensorboard<2.16,>=2.15->tensorflow-intel==2.15.0->tensorflow==2.15.0) (3.3.1)\n",
      "Note: you may need to restart the kernel to use updated packages.\n"
     ]
    }
   ],
   "source": [
    "%pip install tensorflow==2.15.0"
   ]
  },
  {
   "cell_type": "code",
   "execution_count": 33,
   "metadata": {},
   "outputs": [],
   "source": [
    "import keras\n",
    "from keras.models import Sequential\n",
    "from keras.layers import Dense\n",
    "#from keras.layers import LeakyReLU,PReLU,ELU\n",
    "from keras.layers import Dropout"
   ]
  },
  {
   "cell_type": "code",
   "execution_count": 34,
   "metadata": {},
   "outputs": [
    {
     "name": "stdout",
     "output_type": "stream",
     "text": [
      "WARNING:tensorflow:From c:\\Users\\Sam Baqri\\Newfolder\\Lib\\site-packages\\keras\\src\\backend.py:873: The name tf.get_default_graph is deprecated. Please use tf.compat.v1.get_default_graph instead.\n",
      "\n"
     ]
    }
   ],
   "source": [
    "classifier = Sequential()"
   ]
  },
  {
   "cell_type": "code",
   "execution_count": 35,
   "metadata": {},
   "outputs": [
    {
     "name": "stdout",
     "output_type": "stream",
     "text": [
      "WARNING:tensorflow:From c:\\Users\\Sam Baqri\\Newfolder\\Lib\\site-packages\\keras\\src\\optimizers\\__init__.py:309: The name tf.train.Optimizer is deprecated. Please use tf.compat.v1.train.Optimizer instead.\n",
      "\n"
     ]
    }
   ],
   "source": [
    "# Adding the input layer and the first hidden layer\n",
    "classifier.add(Dense(units = 5, kernel_initializer =  'he_uniform',activation='relu',input_dim = 8))\n",
    "# Adding the second hidden layer\n",
    "classifier.add(Dense(units =5, kernel_initializer = 'he_uniform',activation='relu'))\n",
    "# Adding the output layer\n",
    "classifier.add(Dense(units = 1, kernel_initializer = 'glorot_uniform', activation = 'sigmoid'))\n",
    "\n",
    "# Compiling the ANN\n",
    "classifier.compile(optimizer = 'Adam', loss = 'binary_crossentropy', metrics = ['accuracy'])"
   ]
  },
  {
   "cell_type": "code",
   "execution_count": 36,
   "metadata": {},
   "outputs": [
    {
     "name": "stdout",
     "output_type": "stream",
     "text": [
      "Epoch 1/100\n",
      "WARNING:tensorflow:From c:\\Users\\Sam Baqri\\Newfolder\\Lib\\site-packages\\keras\\src\\utils\\tf_utils.py:492: The name tf.ragged.RaggedTensorValue is deprecated. Please use tf.compat.v1.ragged.RaggedTensorValue instead.\n",
      "\n",
      "WARNING:tensorflow:From c:\\Users\\Sam Baqri\\Newfolder\\Lib\\site-packages\\keras\\src\\utils\\tf_utils.py:492: The name tf.ragged.RaggedTensorValue is deprecated. Please use tf.compat.v1.ragged.RaggedTensorValue instead.\n",
      "\n",
      "WARNING:tensorflow:From c:\\Users\\Sam Baqri\\Newfolder\\Lib\\site-packages\\keras\\src\\engine\\base_layer_utils.py:384: The name tf.executing_eagerly_outside_functions is deprecated. Please use tf.compat.v1.executing_eagerly_outside_functions instead.\n",
      "\n",
      "WARNING:tensorflow:From c:\\Users\\Sam Baqri\\Newfolder\\Lib\\site-packages\\keras\\src\\engine\\base_layer_utils.py:384: The name tf.executing_eagerly_outside_functions is deprecated. Please use tf.compat.v1.executing_eagerly_outside_functions instead.\n",
      "\n",
      "42/42 [==============================] - 2s 13ms/step - loss: 1.0906 - accuracy: 0.4039 - val_loss: 1.1288 - val_accuracy: 0.3744\n",
      "Epoch 2/100\n",
      "42/42 [==============================] - 2s 13ms/step - loss: 1.0906 - accuracy: 0.4039 - val_loss: 1.1288 - val_accuracy: 0.3744\n",
      "Epoch 2/100\n",
      "42/42 [==============================] - 0s 4ms/step - loss: 0.9435 - accuracy: 0.4599 - val_loss: 0.9925 - val_accuracy: 0.3892\n",
      "Epoch 3/100\n",
      "42/42 [==============================] - 0s 4ms/step - loss: 0.9435 - accuracy: 0.4599 - val_loss: 0.9925 - val_accuracy: 0.3892\n",
      "Epoch 3/100\n",
      "42/42 [==============================] - 0s 4ms/step - loss: 0.8326 - accuracy: 0.4964 - val_loss: 0.8821 - val_accuracy: 0.4828\n",
      "Epoch 4/100\n",
      "42/42 [==============================] - 0s 4ms/step - loss: 0.8326 - accuracy: 0.4964 - val_loss: 0.8821 - val_accuracy: 0.4828\n",
      "Epoch 4/100\n",
      "42/42 [==============================] - 0s 6ms/step - loss: 0.7519 - accuracy: 0.5523 - val_loss: 0.8142 - val_accuracy: 0.5172\n",
      "Epoch 5/100\n",
      "42/42 [==============================] - 0s 6ms/step - loss: 0.7519 - accuracy: 0.5523 - val_loss: 0.8142 - val_accuracy: 0.5172\n",
      "Epoch 5/100\n",
      "42/42 [==============================] - 0s 5ms/step - loss: 0.6918 - accuracy: 0.6156 - val_loss: 0.7524 - val_accuracy: 0.5911\n",
      "Epoch 6/100\n",
      "42/42 [==============================] - 0s 5ms/step - loss: 0.6918 - accuracy: 0.6156 - val_loss: 0.7524 - val_accuracy: 0.5911\n",
      "Epoch 6/100\n",
      "42/42 [==============================] - 0s 6ms/step - loss: 0.6435 - accuracy: 0.6618 - val_loss: 0.7077 - val_accuracy: 0.6453\n",
      "Epoch 7/100\n",
      "42/42 [==============================] - 0s 6ms/step - loss: 0.6435 - accuracy: 0.6618 - val_loss: 0.7077 - val_accuracy: 0.6453\n",
      "Epoch 7/100\n",
      "42/42 [==============================] - 0s 5ms/step - loss: 0.6093 - accuracy: 0.7007 - val_loss: 0.6742 - val_accuracy: 0.6700\n",
      "Epoch 8/100\n",
      "42/42 [==============================] - 0s 5ms/step - loss: 0.6093 - accuracy: 0.7007 - val_loss: 0.6742 - val_accuracy: 0.6700\n",
      "Epoch 8/100\n",
      "42/42 [==============================] - 0s 6ms/step - loss: 0.5837 - accuracy: 0.7226 - val_loss: 0.6539 - val_accuracy: 0.6897\n",
      "Epoch 9/100\n",
      "42/42 [==============================] - 0s 6ms/step - loss: 0.5837 - accuracy: 0.7226 - val_loss: 0.6539 - val_accuracy: 0.6897\n",
      "Epoch 9/100\n",
      "42/42 [==============================] - 0s 6ms/step - loss: 0.5652 - accuracy: 0.7251 - val_loss: 0.6341 - val_accuracy: 0.6798\n",
      "Epoch 10/100\n",
      "42/42 [==============================] - 0s 6ms/step - loss: 0.5652 - accuracy: 0.7251 - val_loss: 0.6341 - val_accuracy: 0.6798\n",
      "Epoch 10/100\n",
      "42/42 [==============================] - 0s 7ms/step - loss: 0.5506 - accuracy: 0.7324 - val_loss: 0.6222 - val_accuracy: 0.6946\n",
      "Epoch 11/100\n",
      "42/42 [==============================] - 0s 7ms/step - loss: 0.5506 - accuracy: 0.7324 - val_loss: 0.6222 - val_accuracy: 0.6946\n",
      "Epoch 11/100\n",
      "42/42 [==============================] - 0s 6ms/step - loss: 0.5392 - accuracy: 0.7372 - val_loss: 0.6128 - val_accuracy: 0.7044\n",
      "Epoch 12/100\n",
      "42/42 [==============================] - 0s 6ms/step - loss: 0.5392 - accuracy: 0.7372 - val_loss: 0.6128 - val_accuracy: 0.7044\n",
      "Epoch 12/100\n",
      "42/42 [==============================] - 0s 6ms/step - loss: 0.5300 - accuracy: 0.7372 - val_loss: 0.6057 - val_accuracy: 0.6995\n",
      "Epoch 13/100\n",
      "42/42 [==============================] - 0s 6ms/step - loss: 0.5300 - accuracy: 0.7372 - val_loss: 0.6057 - val_accuracy: 0.6995\n",
      "Epoch 13/100\n",
      "42/42 [==============================] - 0s 5ms/step - loss: 0.5222 - accuracy: 0.7421 - val_loss: 0.5980 - val_accuracy: 0.6995\n",
      "Epoch 14/100\n",
      "42/42 [==============================] - 0s 5ms/step - loss: 0.5222 - accuracy: 0.7421 - val_loss: 0.5980 - val_accuracy: 0.6995\n",
      "Epoch 14/100\n",
      "42/42 [==============================] - 0s 8ms/step - loss: 0.5157 - accuracy: 0.7421 - val_loss: 0.5935 - val_accuracy: 0.7044\n",
      "Epoch 15/100\n",
      "42/42 [==============================] - 0s 8ms/step - loss: 0.5157 - accuracy: 0.7421 - val_loss: 0.5935 - val_accuracy: 0.7044\n",
      "Epoch 15/100\n",
      "42/42 [==============================] - 0s 6ms/step - loss: 0.5097 - accuracy: 0.7397 - val_loss: 0.5889 - val_accuracy: 0.7094\n",
      "Epoch 16/100\n",
      "42/42 [==============================] - 0s 6ms/step - loss: 0.5097 - accuracy: 0.7397 - val_loss: 0.5889 - val_accuracy: 0.7094\n",
      "Epoch 16/100\n",
      "42/42 [==============================] - 0s 6ms/step - loss: 0.5049 - accuracy: 0.7397 - val_loss: 0.5871 - val_accuracy: 0.7094\n",
      "Epoch 17/100\n",
      "42/42 [==============================] - 0s 6ms/step - loss: 0.5049 - accuracy: 0.7397 - val_loss: 0.5871 - val_accuracy: 0.7094\n",
      "Epoch 17/100\n",
      "42/42 [==============================] - 0s 8ms/step - loss: 0.5003 - accuracy: 0.7470 - val_loss: 0.5817 - val_accuracy: 0.7094\n",
      "Epoch 18/100\n",
      "42/42 [==============================] - 0s 8ms/step - loss: 0.5003 - accuracy: 0.7470 - val_loss: 0.5817 - val_accuracy: 0.7094\n",
      "Epoch 18/100\n",
      "42/42 [==============================] - 0s 7ms/step - loss: 0.4953 - accuracy: 0.7494 - val_loss: 0.5800 - val_accuracy: 0.7044\n",
      "Epoch 19/100\n",
      "42/42 [==============================] - 0s 7ms/step - loss: 0.4953 - accuracy: 0.7494 - val_loss: 0.5800 - val_accuracy: 0.7044\n",
      "Epoch 19/100\n",
      "42/42 [==============================] - 0s 6ms/step - loss: 0.4918 - accuracy: 0.7494 - val_loss: 0.5788 - val_accuracy: 0.7094\n",
      "Epoch 20/100\n",
      "42/42 [==============================] - 0s 6ms/step - loss: 0.4918 - accuracy: 0.7494 - val_loss: 0.5788 - val_accuracy: 0.7094\n",
      "Epoch 20/100\n",
      "42/42 [==============================] - 0s 6ms/step - loss: 0.4880 - accuracy: 0.7543 - val_loss: 0.5766 - val_accuracy: 0.7044\n",
      "Epoch 21/100\n",
      "42/42 [==============================] - 0s 6ms/step - loss: 0.4880 - accuracy: 0.7543 - val_loss: 0.5766 - val_accuracy: 0.7044\n",
      "Epoch 21/100\n",
      "42/42 [==============================] - 0s 6ms/step - loss: 0.4853 - accuracy: 0.7616 - val_loss: 0.5788 - val_accuracy: 0.7143\n",
      "Epoch 22/100\n",
      "42/42 [==============================] - 0s 6ms/step - loss: 0.4853 - accuracy: 0.7616 - val_loss: 0.5788 - val_accuracy: 0.7143\n",
      "Epoch 22/100\n",
      "42/42 [==============================] - 0s 5ms/step - loss: 0.4817 - accuracy: 0.7616 - val_loss: 0.5752 - val_accuracy: 0.7094\n",
      "Epoch 23/100\n",
      "42/42 [==============================] - 0s 5ms/step - loss: 0.4817 - accuracy: 0.7616 - val_loss: 0.5752 - val_accuracy: 0.7094\n",
      "Epoch 23/100\n",
      "42/42 [==============================] - 0s 5ms/step - loss: 0.4794 - accuracy: 0.7567 - val_loss: 0.5746 - val_accuracy: 0.7143\n",
      "Epoch 24/100\n",
      "42/42 [==============================] - 0s 5ms/step - loss: 0.4794 - accuracy: 0.7567 - val_loss: 0.5746 - val_accuracy: 0.7143\n",
      "Epoch 24/100\n",
      "42/42 [==============================] - 0s 5ms/step - loss: 0.4769 - accuracy: 0.7567 - val_loss: 0.5746 - val_accuracy: 0.7192\n",
      "Epoch 25/100\n",
      "42/42 [==============================] - 0s 5ms/step - loss: 0.4769 - accuracy: 0.7567 - val_loss: 0.5746 - val_accuracy: 0.7192\n",
      "Epoch 25/100\n",
      "42/42 [==============================] - 0s 5ms/step - loss: 0.4750 - accuracy: 0.7640 - val_loss: 0.5748 - val_accuracy: 0.7192\n",
      "Epoch 26/100\n",
      "42/42 [==============================] - 0s 5ms/step - loss: 0.4750 - accuracy: 0.7640 - val_loss: 0.5748 - val_accuracy: 0.7192\n",
      "Epoch 26/100\n",
      "42/42 [==============================] - 0s 5ms/step - loss: 0.4727 - accuracy: 0.7689 - val_loss: 0.5743 - val_accuracy: 0.7192\n",
      "Epoch 27/100\n",
      "42/42 [==============================] - 0s 5ms/step - loss: 0.4727 - accuracy: 0.7689 - val_loss: 0.5743 - val_accuracy: 0.7192\n",
      "Epoch 27/100\n",
      "42/42 [==============================] - 0s 6ms/step - loss: 0.4714 - accuracy: 0.7713 - val_loss: 0.5720 - val_accuracy: 0.7094\n",
      "Epoch 28/100\n",
      "42/42 [==============================] - 0s 6ms/step - loss: 0.4714 - accuracy: 0.7713 - val_loss: 0.5720 - val_accuracy: 0.7094\n",
      "Epoch 28/100\n",
      "42/42 [==============================] - 0s 6ms/step - loss: 0.4689 - accuracy: 0.7713 - val_loss: 0.5761 - val_accuracy: 0.7044\n",
      "Epoch 29/100\n",
      "42/42 [==============================] - 0s 6ms/step - loss: 0.4689 - accuracy: 0.7713 - val_loss: 0.5761 - val_accuracy: 0.7044\n",
      "Epoch 29/100\n",
      "42/42 [==============================] - 0s 8ms/step - loss: 0.4679 - accuracy: 0.7737 - val_loss: 0.5730 - val_accuracy: 0.7044\n",
      "Epoch 30/100\n",
      "42/42 [==============================] - 0s 8ms/step - loss: 0.4679 - accuracy: 0.7737 - val_loss: 0.5730 - val_accuracy: 0.7044\n",
      "Epoch 30/100\n",
      "42/42 [==============================] - 0s 6ms/step - loss: 0.4667 - accuracy: 0.7786 - val_loss: 0.5741 - val_accuracy: 0.7094\n",
      "Epoch 31/100\n",
      "42/42 [==============================] - 0s 6ms/step - loss: 0.4667 - accuracy: 0.7786 - val_loss: 0.5741 - val_accuracy: 0.7094\n",
      "Epoch 31/100\n",
      "42/42 [==============================] - 0s 5ms/step - loss: 0.4644 - accuracy: 0.7737 - val_loss: 0.5720 - val_accuracy: 0.7094\n",
      "Epoch 32/100\n",
      "42/42 [==============================] - 0s 5ms/step - loss: 0.4644 - accuracy: 0.7737 - val_loss: 0.5720 - val_accuracy: 0.7094\n",
      "Epoch 32/100\n",
      "42/42 [==============================] - 0s 5ms/step - loss: 0.4632 - accuracy: 0.7689 - val_loss: 0.5712 - val_accuracy: 0.7094\n",
      "Epoch 33/100\n",
      "42/42 [==============================] - 0s 5ms/step - loss: 0.4632 - accuracy: 0.7689 - val_loss: 0.5712 - val_accuracy: 0.7094\n",
      "Epoch 33/100\n",
      "42/42 [==============================] - 0s 6ms/step - loss: 0.4620 - accuracy: 0.7664 - val_loss: 0.5699 - val_accuracy: 0.7143\n",
      "Epoch 34/100\n",
      "42/42 [==============================] - 0s 6ms/step - loss: 0.4620 - accuracy: 0.7664 - val_loss: 0.5699 - val_accuracy: 0.7143\n",
      "Epoch 34/100\n",
      "42/42 [==============================] - 0s 5ms/step - loss: 0.4608 - accuracy: 0.7713 - val_loss: 0.5678 - val_accuracy: 0.7143\n",
      "Epoch 35/100\n",
      "42/42 [==============================] - 0s 5ms/step - loss: 0.4608 - accuracy: 0.7713 - val_loss: 0.5678 - val_accuracy: 0.7143\n",
      "Epoch 35/100\n",
      "42/42 [==============================] - 0s 5ms/step - loss: 0.4603 - accuracy: 0.7567 - val_loss: 0.5631 - val_accuracy: 0.7143\n",
      "Epoch 36/100\n",
      "42/42 [==============================] - 0s 5ms/step - loss: 0.4603 - accuracy: 0.7567 - val_loss: 0.5631 - val_accuracy: 0.7143\n",
      "Epoch 36/100\n",
      "42/42 [==============================] - 0s 5ms/step - loss: 0.4586 - accuracy: 0.7640 - val_loss: 0.5643 - val_accuracy: 0.7094\n",
      "Epoch 37/100\n",
      "42/42 [==============================] - 0s 5ms/step - loss: 0.4586 - accuracy: 0.7640 - val_loss: 0.5643 - val_accuracy: 0.7094\n",
      "Epoch 37/100\n",
      "42/42 [==============================] - 0s 6ms/step - loss: 0.4566 - accuracy: 0.7737 - val_loss: 0.5650 - val_accuracy: 0.7094\n",
      "Epoch 38/100\n",
      "42/42 [==============================] - 0s 6ms/step - loss: 0.4566 - accuracy: 0.7737 - val_loss: 0.5650 - val_accuracy: 0.7094\n",
      "Epoch 38/100\n",
      "42/42 [==============================] - 0s 5ms/step - loss: 0.4550 - accuracy: 0.7762 - val_loss: 0.5649 - val_accuracy: 0.7094\n",
      "Epoch 39/100\n",
      "42/42 [==============================] - 0s 5ms/step - loss: 0.4550 - accuracy: 0.7762 - val_loss: 0.5649 - val_accuracy: 0.7094\n",
      "Epoch 39/100\n",
      "42/42 [==============================] - 0s 5ms/step - loss: 0.4542 - accuracy: 0.7762 - val_loss: 0.5662 - val_accuracy: 0.7094\n",
      "Epoch 40/100\n",
      "42/42 [==============================] - 0s 5ms/step - loss: 0.4542 - accuracy: 0.7762 - val_loss: 0.5662 - val_accuracy: 0.7094\n",
      "Epoch 40/100\n",
      "42/42 [==============================] - 0s 5ms/step - loss: 0.4524 - accuracy: 0.7810 - val_loss: 0.5671 - val_accuracy: 0.7143\n",
      "Epoch 41/100\n",
      "42/42 [==============================] - 0s 5ms/step - loss: 0.4524 - accuracy: 0.7810 - val_loss: 0.5671 - val_accuracy: 0.7143\n",
      "Epoch 41/100\n",
      "42/42 [==============================] - 0s 5ms/step - loss: 0.4515 - accuracy: 0.7786 - val_loss: 0.5690 - val_accuracy: 0.7044\n",
      "Epoch 42/100\n",
      "42/42 [==============================] - 0s 5ms/step - loss: 0.4515 - accuracy: 0.7786 - val_loss: 0.5690 - val_accuracy: 0.7044\n",
      "Epoch 42/100\n",
      "42/42 [==============================] - 0s 8ms/step - loss: 0.4503 - accuracy: 0.7810 - val_loss: 0.5690 - val_accuracy: 0.6995\n",
      "Epoch 43/100\n",
      "42/42 [==============================] - 0s 8ms/step - loss: 0.4503 - accuracy: 0.7810 - val_loss: 0.5690 - val_accuracy: 0.6995\n",
      "Epoch 43/100\n",
      "42/42 [==============================] - 0s 6ms/step - loss: 0.4499 - accuracy: 0.7835 - val_loss: 0.5728 - val_accuracy: 0.6946\n",
      "Epoch 44/100\n",
      "42/42 [==============================] - 0s 6ms/step - loss: 0.4499 - accuracy: 0.7835 - val_loss: 0.5728 - val_accuracy: 0.6946\n",
      "Epoch 44/100\n",
      "42/42 [==============================] - 0s 5ms/step - loss: 0.4487 - accuracy: 0.7835 - val_loss: 0.5737 - val_accuracy: 0.6946\n",
      "Epoch 45/100\n",
      "42/42 [==============================] - 0s 5ms/step - loss: 0.4487 - accuracy: 0.7835 - val_loss: 0.5737 - val_accuracy: 0.6946\n",
      "Epoch 45/100\n",
      "42/42 [==============================] - 0s 5ms/step - loss: 0.4494 - accuracy: 0.7737 - val_loss: 0.5695 - val_accuracy: 0.7143\n",
      "Epoch 46/100\n",
      "42/42 [==============================] - 0s 5ms/step - loss: 0.4494 - accuracy: 0.7737 - val_loss: 0.5695 - val_accuracy: 0.7143\n",
      "Epoch 46/100\n",
      "42/42 [==============================] - 0s 5ms/step - loss: 0.4470 - accuracy: 0.7883 - val_loss: 0.5703 - val_accuracy: 0.7143\n",
      "Epoch 47/100\n",
      "42/42 [==============================] - 0s 5ms/step - loss: 0.4470 - accuracy: 0.7883 - val_loss: 0.5703 - val_accuracy: 0.7143\n",
      "Epoch 47/100\n",
      "42/42 [==============================] - 0s 6ms/step - loss: 0.4463 - accuracy: 0.7859 - val_loss: 0.5723 - val_accuracy: 0.7094\n",
      "Epoch 48/100\n",
      "42/42 [==============================] - 0s 6ms/step - loss: 0.4463 - accuracy: 0.7859 - val_loss: 0.5723 - val_accuracy: 0.7094\n",
      "Epoch 48/100\n",
      "42/42 [==============================] - 0s 5ms/step - loss: 0.4457 - accuracy: 0.7859 - val_loss: 0.5682 - val_accuracy: 0.7143\n",
      "Epoch 49/100\n",
      "42/42 [==============================] - 0s 5ms/step - loss: 0.4457 - accuracy: 0.7859 - val_loss: 0.5682 - val_accuracy: 0.7143\n",
      "Epoch 49/100\n",
      "42/42 [==============================] - 0s 5ms/step - loss: 0.4448 - accuracy: 0.7859 - val_loss: 0.5707 - val_accuracy: 0.7143\n",
      "Epoch 50/100\n",
      "42/42 [==============================] - 0s 5ms/step - loss: 0.4448 - accuracy: 0.7859 - val_loss: 0.5707 - val_accuracy: 0.7143\n",
      "Epoch 50/100\n",
      "42/42 [==============================] - 0s 4ms/step - loss: 0.4448 - accuracy: 0.7859 - val_loss: 0.5737 - val_accuracy: 0.6995\n",
      "Epoch 51/100\n",
      "42/42 [==============================] - 0s 4ms/step - loss: 0.4448 - accuracy: 0.7859 - val_loss: 0.5737 - val_accuracy: 0.6995\n",
      "Epoch 51/100\n",
      "42/42 [==============================] - 0s 4ms/step - loss: 0.4439 - accuracy: 0.7908 - val_loss: 0.5714 - val_accuracy: 0.7044\n",
      "Epoch 52/100\n",
      "42/42 [==============================] - 0s 4ms/step - loss: 0.4439 - accuracy: 0.7908 - val_loss: 0.5714 - val_accuracy: 0.7044\n",
      "Epoch 52/100\n",
      "42/42 [==============================] - 0s 4ms/step - loss: 0.4423 - accuracy: 0.7859 - val_loss: 0.5714 - val_accuracy: 0.6995\n",
      "Epoch 53/100\n",
      "42/42 [==============================] - 0s 4ms/step - loss: 0.4423 - accuracy: 0.7859 - val_loss: 0.5714 - val_accuracy: 0.6995\n",
      "Epoch 53/100\n",
      "42/42 [==============================] - 0s 4ms/step - loss: 0.4420 - accuracy: 0.7883 - val_loss: 0.5729 - val_accuracy: 0.6995\n",
      "Epoch 54/100\n",
      "42/42 [==============================] - 0s 4ms/step - loss: 0.4420 - accuracy: 0.7883 - val_loss: 0.5729 - val_accuracy: 0.6995\n",
      "Epoch 54/100\n",
      "42/42 [==============================] - 0s 4ms/step - loss: 0.4413 - accuracy: 0.7932 - val_loss: 0.5743 - val_accuracy: 0.7044\n",
      "Epoch 55/100\n",
      "42/42 [==============================] - 0s 4ms/step - loss: 0.4413 - accuracy: 0.7932 - val_loss: 0.5743 - val_accuracy: 0.7044\n",
      "Epoch 55/100\n",
      "42/42 [==============================] - 0s 5ms/step - loss: 0.4408 - accuracy: 0.7932 - val_loss: 0.5760 - val_accuracy: 0.7044\n",
      "Epoch 56/100\n",
      "42/42 [==============================] - 0s 5ms/step - loss: 0.4408 - accuracy: 0.7932 - val_loss: 0.5760 - val_accuracy: 0.7044\n",
      "Epoch 56/100\n",
      "42/42 [==============================] - 0s 6ms/step - loss: 0.4396 - accuracy: 0.7908 - val_loss: 0.5737 - val_accuracy: 0.7094\n",
      "Epoch 57/100\n",
      "42/42 [==============================] - 0s 6ms/step - loss: 0.4396 - accuracy: 0.7908 - val_loss: 0.5737 - val_accuracy: 0.7094\n",
      "Epoch 57/100\n",
      "42/42 [==============================] - 0s 5ms/step - loss: 0.4399 - accuracy: 0.7956 - val_loss: 0.5754 - val_accuracy: 0.7044\n",
      "Epoch 58/100\n",
      "42/42 [==============================] - 0s 5ms/step - loss: 0.4399 - accuracy: 0.7956 - val_loss: 0.5754 - val_accuracy: 0.7044\n",
      "Epoch 58/100\n",
      "42/42 [==============================] - 0s 5ms/step - loss: 0.4386 - accuracy: 0.7981 - val_loss: 0.5748 - val_accuracy: 0.7094\n",
      "Epoch 59/100\n",
      "42/42 [==============================] - 0s 5ms/step - loss: 0.4386 - accuracy: 0.7981 - val_loss: 0.5748 - val_accuracy: 0.7094\n",
      "Epoch 59/100\n",
      "42/42 [==============================] - 0s 4ms/step - loss: 0.4381 - accuracy: 0.7956 - val_loss: 0.5767 - val_accuracy: 0.7044\n",
      "Epoch 60/100\n",
      "42/42 [==============================] - 0s 4ms/step - loss: 0.4381 - accuracy: 0.7956 - val_loss: 0.5767 - val_accuracy: 0.7044\n",
      "Epoch 60/100\n",
      "42/42 [==============================] - 0s 4ms/step - loss: 0.4380 - accuracy: 0.7908 - val_loss: 0.5778 - val_accuracy: 0.7044\n",
      "Epoch 61/100\n",
      "42/42 [==============================] - 0s 4ms/step - loss: 0.4380 - accuracy: 0.7908 - val_loss: 0.5778 - val_accuracy: 0.7044\n",
      "Epoch 61/100\n",
      "42/42 [==============================] - 0s 5ms/step - loss: 0.4374 - accuracy: 0.7908 - val_loss: 0.5731 - val_accuracy: 0.7094\n",
      "Epoch 62/100\n",
      "42/42 [==============================] - 0s 5ms/step - loss: 0.4374 - accuracy: 0.7908 - val_loss: 0.5731 - val_accuracy: 0.7094\n",
      "Epoch 62/100\n",
      "42/42 [==============================] - 0s 4ms/step - loss: 0.4372 - accuracy: 0.7835 - val_loss: 0.5740 - val_accuracy: 0.7094\n",
      "Epoch 63/100\n",
      "42/42 [==============================] - 0s 4ms/step - loss: 0.4372 - accuracy: 0.7835 - val_loss: 0.5740 - val_accuracy: 0.7094\n",
      "Epoch 63/100\n",
      "42/42 [==============================] - 0s 4ms/step - loss: 0.4365 - accuracy: 0.7883 - val_loss: 0.5763 - val_accuracy: 0.7044\n",
      "Epoch 64/100\n",
      "42/42 [==============================] - 0s 4ms/step - loss: 0.4365 - accuracy: 0.7883 - val_loss: 0.5763 - val_accuracy: 0.7044\n",
      "Epoch 64/100\n",
      "42/42 [==============================] - 0s 4ms/step - loss: 0.4358 - accuracy: 0.7883 - val_loss: 0.5768 - val_accuracy: 0.6995\n",
      "Epoch 65/100\n",
      "42/42 [==============================] - 0s 4ms/step - loss: 0.4358 - accuracy: 0.7883 - val_loss: 0.5768 - val_accuracy: 0.6995\n",
      "Epoch 65/100\n",
      "42/42 [==============================] - 0s 4ms/step - loss: 0.4361 - accuracy: 0.7883 - val_loss: 0.5763 - val_accuracy: 0.7044\n",
      "Epoch 66/100\n",
      "42/42 [==============================] - 0s 4ms/step - loss: 0.4361 - accuracy: 0.7883 - val_loss: 0.5763 - val_accuracy: 0.7044\n",
      "Epoch 66/100\n",
      "42/42 [==============================] - 0s 5ms/step - loss: 0.4347 - accuracy: 0.7908 - val_loss: 0.5782 - val_accuracy: 0.7044\n",
      "Epoch 67/100\n",
      "42/42 [==============================] - 0s 5ms/step - loss: 0.4347 - accuracy: 0.7908 - val_loss: 0.5782 - val_accuracy: 0.7044\n",
      "Epoch 67/100\n",
      "42/42 [==============================] - 0s 6ms/step - loss: 0.4341 - accuracy: 0.7859 - val_loss: 0.5765 - val_accuracy: 0.7044\n",
      "Epoch 68/100\n",
      "42/42 [==============================] - 0s 6ms/step - loss: 0.4341 - accuracy: 0.7859 - val_loss: 0.5765 - val_accuracy: 0.7044\n",
      "Epoch 68/100\n",
      "42/42 [==============================] - 0s 7ms/step - loss: 0.4331 - accuracy: 0.7908 - val_loss: 0.5774 - val_accuracy: 0.7044\n",
      "Epoch 69/100\n",
      "42/42 [==============================] - 0s 7ms/step - loss: 0.4331 - accuracy: 0.7908 - val_loss: 0.5774 - val_accuracy: 0.7044\n",
      "Epoch 69/100\n",
      "42/42 [==============================] - 0s 5ms/step - loss: 0.4326 - accuracy: 0.7908 - val_loss: 0.5811 - val_accuracy: 0.7094\n",
      "Epoch 70/100\n",
      "42/42 [==============================] - 0s 5ms/step - loss: 0.4326 - accuracy: 0.7908 - val_loss: 0.5811 - val_accuracy: 0.7094\n",
      "Epoch 70/100\n",
      "42/42 [==============================] - 0s 5ms/step - loss: 0.4327 - accuracy: 0.7835 - val_loss: 0.5794 - val_accuracy: 0.7044\n",
      "Epoch 71/100\n",
      "42/42 [==============================] - 0s 5ms/step - loss: 0.4327 - accuracy: 0.7835 - val_loss: 0.5794 - val_accuracy: 0.7044\n",
      "Epoch 71/100\n",
      "42/42 [==============================] - 0s 5ms/step - loss: 0.4315 - accuracy: 0.7859 - val_loss: 0.5801 - val_accuracy: 0.7192\n",
      "Epoch 72/100\n",
      "42/42 [==============================] - 0s 5ms/step - loss: 0.4315 - accuracy: 0.7859 - val_loss: 0.5801 - val_accuracy: 0.7192\n",
      "Epoch 72/100\n",
      "42/42 [==============================] - 0s 5ms/step - loss: 0.4314 - accuracy: 0.7859 - val_loss: 0.5822 - val_accuracy: 0.7094\n",
      "Epoch 73/100\n",
      "42/42 [==============================] - 0s 5ms/step - loss: 0.4314 - accuracy: 0.7859 - val_loss: 0.5822 - val_accuracy: 0.7094\n",
      "Epoch 73/100\n",
      "42/42 [==============================] - 0s 5ms/step - loss: 0.4310 - accuracy: 0.7883 - val_loss: 0.5816 - val_accuracy: 0.7143\n",
      "Epoch 74/100\n",
      "42/42 [==============================] - 0s 5ms/step - loss: 0.4310 - accuracy: 0.7883 - val_loss: 0.5816 - val_accuracy: 0.7143\n",
      "Epoch 74/100\n",
      "42/42 [==============================] - 0s 4ms/step - loss: 0.4312 - accuracy: 0.7908 - val_loss: 0.5808 - val_accuracy: 0.7143\n",
      "Epoch 75/100\n",
      "42/42 [==============================] - 0s 4ms/step - loss: 0.4312 - accuracy: 0.7908 - val_loss: 0.5808 - val_accuracy: 0.7143\n",
      "Epoch 75/100\n",
      "42/42 [==============================] - 0s 5ms/step - loss: 0.4306 - accuracy: 0.7883 - val_loss: 0.5812 - val_accuracy: 0.7192\n",
      "Epoch 76/100\n",
      "42/42 [==============================] - 0s 5ms/step - loss: 0.4306 - accuracy: 0.7883 - val_loss: 0.5812 - val_accuracy: 0.7192\n",
      "Epoch 76/100\n",
      "42/42 [==============================] - 0s 5ms/step - loss: 0.4300 - accuracy: 0.7908 - val_loss: 0.5813 - val_accuracy: 0.7241\n",
      "Epoch 77/100\n",
      "42/42 [==============================] - 0s 5ms/step - loss: 0.4300 - accuracy: 0.7908 - val_loss: 0.5813 - val_accuracy: 0.7241\n",
      "Epoch 77/100\n",
      "42/42 [==============================] - 0s 4ms/step - loss: 0.4288 - accuracy: 0.7859 - val_loss: 0.5811 - val_accuracy: 0.7192\n",
      "Epoch 78/100\n",
      "42/42 [==============================] - 0s 4ms/step - loss: 0.4288 - accuracy: 0.7859 - val_loss: 0.5811 - val_accuracy: 0.7192\n",
      "Epoch 78/100\n",
      "42/42 [==============================] - 0s 5ms/step - loss: 0.4286 - accuracy: 0.7883 - val_loss: 0.5831 - val_accuracy: 0.7192\n",
      "Epoch 79/100\n",
      "42/42 [==============================] - 0s 5ms/step - loss: 0.4286 - accuracy: 0.7883 - val_loss: 0.5831 - val_accuracy: 0.7192\n",
      "Epoch 79/100\n",
      "42/42 [==============================] - 0s 5ms/step - loss: 0.4283 - accuracy: 0.7859 - val_loss: 0.5849 - val_accuracy: 0.7192\n",
      "Epoch 80/100\n",
      "42/42 [==============================] - 0s 5ms/step - loss: 0.4283 - accuracy: 0.7859 - val_loss: 0.5849 - val_accuracy: 0.7192\n",
      "Epoch 80/100\n",
      "42/42 [==============================] - 0s 6ms/step - loss: 0.4271 - accuracy: 0.7835 - val_loss: 0.5831 - val_accuracy: 0.7241\n",
      "Epoch 81/100\n",
      "42/42 [==============================] - 0s 6ms/step - loss: 0.4271 - accuracy: 0.7835 - val_loss: 0.5831 - val_accuracy: 0.7241\n",
      "Epoch 81/100\n",
      "42/42 [==============================] - 0s 5ms/step - loss: 0.4276 - accuracy: 0.7835 - val_loss: 0.5824 - val_accuracy: 0.7192\n",
      "Epoch 82/100\n",
      "42/42 [==============================] - 0s 5ms/step - loss: 0.4276 - accuracy: 0.7835 - val_loss: 0.5824 - val_accuracy: 0.7192\n",
      "Epoch 82/100\n",
      "42/42 [==============================] - 0s 5ms/step - loss: 0.4268 - accuracy: 0.7859 - val_loss: 0.5851 - val_accuracy: 0.7192\n",
      "Epoch 83/100\n",
      "42/42 [==============================] - 0s 5ms/step - loss: 0.4268 - accuracy: 0.7859 - val_loss: 0.5851 - val_accuracy: 0.7192\n",
      "Epoch 83/100\n",
      "42/42 [==============================] - 0s 5ms/step - loss: 0.4259 - accuracy: 0.7883 - val_loss: 0.5848 - val_accuracy: 0.7192\n",
      "Epoch 84/100\n",
      "42/42 [==============================] - 0s 5ms/step - loss: 0.4259 - accuracy: 0.7883 - val_loss: 0.5848 - val_accuracy: 0.7192\n",
      "Epoch 84/100\n",
      "42/42 [==============================] - 0s 5ms/step - loss: 0.4253 - accuracy: 0.7883 - val_loss: 0.5852 - val_accuracy: 0.7241\n",
      "Epoch 85/100\n",
      "42/42 [==============================] - 0s 5ms/step - loss: 0.4253 - accuracy: 0.7883 - val_loss: 0.5852 - val_accuracy: 0.7241\n",
      "Epoch 85/100\n",
      "42/42 [==============================] - 0s 5ms/step - loss: 0.4247 - accuracy: 0.7883 - val_loss: 0.5831 - val_accuracy: 0.7241\n",
      "Epoch 86/100\n",
      "42/42 [==============================] - 0s 5ms/step - loss: 0.4247 - accuracy: 0.7883 - val_loss: 0.5831 - val_accuracy: 0.7241\n",
      "Epoch 86/100\n",
      "42/42 [==============================] - 0s 4ms/step - loss: 0.4246 - accuracy: 0.7908 - val_loss: 0.5845 - val_accuracy: 0.7241\n",
      "Epoch 87/100\n",
      "42/42 [==============================] - 0s 4ms/step - loss: 0.4246 - accuracy: 0.7908 - val_loss: 0.5845 - val_accuracy: 0.7241\n",
      "Epoch 87/100\n",
      "42/42 [==============================] - 0s 4ms/step - loss: 0.4245 - accuracy: 0.7859 - val_loss: 0.5846 - val_accuracy: 0.7241\n",
      "Epoch 88/100\n",
      "42/42 [==============================] - 0s 4ms/step - loss: 0.4245 - accuracy: 0.7859 - val_loss: 0.5846 - val_accuracy: 0.7241\n",
      "Epoch 88/100\n",
      "42/42 [==============================] - 0s 4ms/step - loss: 0.4244 - accuracy: 0.7883 - val_loss: 0.5853 - val_accuracy: 0.7241\n",
      "Epoch 89/100\n",
      "42/42 [==============================] - 0s 4ms/step - loss: 0.4244 - accuracy: 0.7883 - val_loss: 0.5853 - val_accuracy: 0.7241\n",
      "Epoch 89/100\n",
      "42/42 [==============================] - 0s 4ms/step - loss: 0.4234 - accuracy: 0.7908 - val_loss: 0.5894 - val_accuracy: 0.7192\n",
      "Epoch 90/100\n",
      "42/42 [==============================] - 0s 4ms/step - loss: 0.4234 - accuracy: 0.7908 - val_loss: 0.5894 - val_accuracy: 0.7192\n",
      "Epoch 90/100\n",
      "42/42 [==============================] - 0s 4ms/step - loss: 0.4224 - accuracy: 0.7932 - val_loss: 0.5900 - val_accuracy: 0.7241\n",
      "Epoch 91/100\n",
      "42/42 [==============================] - 0s 4ms/step - loss: 0.4224 - accuracy: 0.7932 - val_loss: 0.5900 - val_accuracy: 0.7241\n",
      "Epoch 91/100\n",
      "42/42 [==============================] - 0s 7ms/step - loss: 0.4231 - accuracy: 0.7932 - val_loss: 0.5887 - val_accuracy: 0.7291\n",
      "Epoch 92/100\n",
      "42/42 [==============================] - 0s 7ms/step - loss: 0.4231 - accuracy: 0.7932 - val_loss: 0.5887 - val_accuracy: 0.7291\n",
      "Epoch 92/100\n",
      "42/42 [==============================] - 0s 5ms/step - loss: 0.4213 - accuracy: 0.7908 - val_loss: 0.5884 - val_accuracy: 0.7241\n",
      "Epoch 93/100\n",
      "42/42 [==============================] - 0s 5ms/step - loss: 0.4213 - accuracy: 0.7908 - val_loss: 0.5884 - val_accuracy: 0.7241\n",
      "Epoch 93/100\n",
      "42/42 [==============================] - 0s 4ms/step - loss: 0.4212 - accuracy: 0.7956 - val_loss: 0.5899 - val_accuracy: 0.7241\n",
      "Epoch 94/100\n",
      "42/42 [==============================] - 0s 4ms/step - loss: 0.4212 - accuracy: 0.7956 - val_loss: 0.5899 - val_accuracy: 0.7241\n",
      "Epoch 94/100\n",
      "42/42 [==============================] - 0s 5ms/step - loss: 0.4203 - accuracy: 0.8005 - val_loss: 0.5882 - val_accuracy: 0.7291\n",
      "Epoch 95/100\n",
      "42/42 [==============================] - 0s 5ms/step - loss: 0.4203 - accuracy: 0.8005 - val_loss: 0.5882 - val_accuracy: 0.7291\n",
      "Epoch 95/100\n",
      "42/42 [==============================] - 0s 5ms/step - loss: 0.4202 - accuracy: 0.7981 - val_loss: 0.5904 - val_accuracy: 0.7291\n",
      "Epoch 96/100\n",
      "42/42 [==============================] - 0s 5ms/step - loss: 0.4202 - accuracy: 0.7981 - val_loss: 0.5904 - val_accuracy: 0.7291\n",
      "Epoch 96/100\n",
      "42/42 [==============================] - 0s 5ms/step - loss: 0.4199 - accuracy: 0.7932 - val_loss: 0.5888 - val_accuracy: 0.7291\n",
      "Epoch 97/100\n",
      "42/42 [==============================] - 0s 5ms/step - loss: 0.4199 - accuracy: 0.7932 - val_loss: 0.5888 - val_accuracy: 0.7291\n",
      "Epoch 97/100\n",
      "42/42 [==============================] - 0s 4ms/step - loss: 0.4188 - accuracy: 0.7956 - val_loss: 0.5891 - val_accuracy: 0.7291\n",
      "Epoch 98/100\n",
      "42/42 [==============================] - 0s 4ms/step - loss: 0.4188 - accuracy: 0.7956 - val_loss: 0.5891 - val_accuracy: 0.7291\n",
      "Epoch 98/100\n",
      "42/42 [==============================] - 0s 4ms/step - loss: 0.4187 - accuracy: 0.7981 - val_loss: 0.5884 - val_accuracy: 0.7291\n",
      "Epoch 99/100\n",
      "42/42 [==============================] - 0s 4ms/step - loss: 0.4187 - accuracy: 0.7981 - val_loss: 0.5884 - val_accuracy: 0.7291\n",
      "Epoch 99/100\n",
      "42/42 [==============================] - 0s 4ms/step - loss: 0.4180 - accuracy: 0.7981 - val_loss: 0.5885 - val_accuracy: 0.7291\n",
      "Epoch 100/100\n",
      "42/42 [==============================] - 0s 4ms/step - loss: 0.4180 - accuracy: 0.7981 - val_loss: 0.5885 - val_accuracy: 0.7291\n",
      "Epoch 100/100\n",
      "42/42 [==============================] - 0s 4ms/step - loss: 0.4171 - accuracy: 0.7956 - val_loss: 0.5910 - val_accuracy: 0.7241\n",
      "42/42 [==============================] - 0s 4ms/step - loss: 0.4171 - accuracy: 0.7956 - val_loss: 0.5910 - val_accuracy: 0.7241\n"
     ]
    }
   ],
   "source": [
    "model_history=classifier.fit(X_train, y_train,validation_split=0.33, batch_size = 10, epochs = 100)"
   ]
  },
  {
   "cell_type": "code",
   "execution_count": 37,
   "metadata": {},
   "outputs": [
    {
     "name": "stdout",
     "output_type": "stream",
     "text": [
      "dict_keys(['loss', 'accuracy', 'val_loss', 'val_accuracy'])\n"
     ]
    }
   ],
   "source": [
    "# list all data in history\n",
    "\n",
    "print(model_history.history.keys())"
   ]
  },
  {
   "cell_type": "code",
   "execution_count": 38,
   "metadata": {},
   "outputs": [
    {
     "data": {
      "image/png": "[encoded data removed]",
      "text/plain": [
       "<Figure size 640x480 with 1 Axes>"
      ]
     },
     "metadata": {},
     "output_type": "display_data"
    }
   ],
   "source": [
    "# summarize history for accuracy\n",
    "plt.plot(model_history.history['accuracy'])\n",
    "plt.plot(model_history.history['val_accuracy'])\n",
    "plt.title('model accuracy')\n",
    "plt.ylabel('accuracy')\n",
    "plt.xlabel('epoch')\n",
    "plt.legend(['train', 'test'], loc='upper left')\n",
    "plt.show()"
   ]
  },
  {
   "cell_type": "code",
   "execution_count": 39,
   "metadata": {},
   "outputs": [
    {
     "data": {
      "image/png": "[encoded data removed]",
      "text/plain": [
       "<Figure size 640x480 with 1 Axes>"
      ]
     },
     "metadata": {},
     "output_type": "display_data"
    }
   ],
   "source": [
    "# summarize history for loss\n",
    "plt.plot(model_history.history['loss'])\n",
    "plt.plot(model_history.history['val_loss'])\n",
    "plt.title('model loss')\n",
    "plt.ylabel('loss')\n",
    "plt.xlabel('epoch')\n",
    "plt.legend(['train', 'test'], loc='upper left')\n",
    "plt.show()"
   ]
  },
  {
   "cell_type": "code",
   "execution_count": 40,
   "metadata": {},
   "outputs": [
    {
     "name": "stdout",
     "output_type": "stream",
     "text": [
      "5/5 [==============================] - 0s 3ms/step\n",
      "5/5 [==============================] - 0s 3ms/step\n"
     ]
    },
    {
     "data": {
      "text/plain": [
       "array([[ True],\n",
       "       [False],\n",
       "       [False],\n",
       "       [ True],\n",
       "       [False],\n",
       "       [False],\n",
       "       [ True],\n",
       "       [ True],\n",
       "       [False],\n",
       "       [False],\n",
       "       [ True],\n",
       "       [ True],\n",
       "       [False],\n",
       "       [False],\n",
       "       [False],\n",
       "       [False],\n",
       "       [ True],\n",
       "       [False],\n",
       "       [False],\n",
       "       [False],\n",
       "       [False],\n",
       "       [False],\n",
       "       [False],\n",
       "       [False],\n",
       "       [False],\n",
       "       [ True],\n",
       "       [False],\n",
       "       [ True],\n",
       "       [False],\n",
       "       [False],\n",
       "       [ True],\n",
       "       [False],\n",
       "       [False],\n",
       "       [ True],\n",
       "       [False],\n",
       "       [ True],\n",
       "       [ True],\n",
       "       [False],\n",
       "       [ True],\n",
       "       [ True],\n",
       "       [False],\n",
       "       [False],\n",
       "       [False],\n",
       "       [ True],\n",
       "       [ True],\n",
       "       [False],\n",
       "       [False],\n",
       "       [False],\n",
       "       [False],\n",
       "       [False],\n",
       "       [False],\n",
       "       [False],\n",
       "       [ True],\n",
       "       [False],\n",
       "       [False],\n",
       "       [False],\n",
       "       [False],\n",
       "       [False],\n",
       "       [False],\n",
       "       [False],\n",
       "       [ True],\n",
       "       [ True],\n",
       "       [False],\n",
       "       [ True],\n",
       "       [ True],\n",
       "       [ True],\n",
       "       [ True],\n",
       "       [False],\n",
       "       [ True],\n",
       "       [False],\n",
       "       [False],\n",
       "       [False],\n",
       "       [False],\n",
       "       [ True],\n",
       "       [ True],\n",
       "       [False],\n",
       "       [False],\n",
       "       [ True],\n",
       "       [False],\n",
       "       [False],\n",
       "       [False],\n",
       "       [False],\n",
       "       [False],\n",
       "       [False],\n",
       "       [False],\n",
       "       [False],\n",
       "       [False],\n",
       "       [ True],\n",
       "       [ True],\n",
       "       [False],\n",
       "       [False],\n",
       "       [False],\n",
       "       [False],\n",
       "       [False],\n",
       "       [ True],\n",
       "       [False],\n",
       "       [False],\n",
       "       [ True],\n",
       "       [ True],\n",
       "       [False],\n",
       "       [False],\n",
       "       [False],\n",
       "       [False],\n",
       "       [False],\n",
       "       [ True],\n",
       "       [ True],\n",
       "       [False],\n",
       "       [False],\n",
       "       [False],\n",
       "       [ True],\n",
       "       [False],\n",
       "       [False],\n",
       "       [ True],\n",
       "       [False],\n",
       "       [ True],\n",
       "       [False],\n",
       "       [False],\n",
       "       [ True],\n",
       "       [False],\n",
       "       [ True],\n",
       "       [False],\n",
       "       [False],\n",
       "       [False],\n",
       "       [False],\n",
       "       [False],\n",
       "       [False],\n",
       "       [False],\n",
       "       [False],\n",
       "       [ True],\n",
       "       [False],\n",
       "       [ True],\n",
       "       [False],\n",
       "       [False],\n",
       "       [ True],\n",
       "       [False],\n",
       "       [False],\n",
       "       [False],\n",
       "       [False],\n",
       "       [ True],\n",
       "       [False],\n",
       "       [False],\n",
       "       [ True],\n",
       "       [False],\n",
       "       [False],\n",
       "       [False],\n",
       "       [False],\n",
       "       [False],\n",
       "       [False],\n",
       "       [False],\n",
       "       [False],\n",
       "       [False],\n",
       "       [ True],\n",
       "       [False],\n",
       "       [False]])"
      ]
     },
     "execution_count": 40,
     "metadata": {},
     "output_type": "execute_result"
    }
   ],
   "source": [
    "# Predicting the Test set results\n",
    "y_pred = classifier.predict(X_test)\n",
    "y_pred = (y_pred > 0.5)\n",
    "y_pred"
   ]
  },
  {
   "cell_type": "code",
   "execution_count": 41,
   "metadata": {},
   "outputs": [
    {
     "data": {
      "text/plain": [
       "0.7597402597402597"
      ]
     },
     "execution_count": 41,
     "metadata": {},
     "output_type": "execute_result"
    }
   ],
   "source": [
    "# Calculate the Accuracy\n",
    "from sklearn.metrics import accuracy_score\n",
    "score=accuracy_score(y_pred,y_test)\n",
    "score"
   ]
  },
  {
   "cell_type": "code",
   "execution_count": 42,
   "metadata": {},
   "outputs": [],
   "source": [
    "from sklearn.preprocessing import StandardScaler"
   ]
  },
  {
   "cell_type": "code",
   "execution_count": 43,
   "metadata": {},
   "outputs": [],
   "source": [
    "scaler = StandardScaler()\n",
    "X_train_scaled = scaler.fit_transform(X_train)\n",
    "X_test_scaled = scaler.transform(X_test)"
   ]
  },
  {
   "cell_type": "code",
   "execution_count": 49,
   "metadata": {},
   "outputs": [],
   "source": [
    "user_input = []\n",
    "for feature in X.columns:\n",
    "    value = float(input(f\"Enter {feature}: \"))\n",
    "    user_input.append(value)\n",
    "\n",
    "user_input_scaled = scaler.transform([user_input])"
   ]
  },
  {
   "cell_type": "code",
   "execution_count": 50,
   "metadata": {},
   "outputs": [
    {
     "name": "stdout",
     "output_type": "stream",
     "text": [
      "Prediction: Diabetic\n"
     ]
    }
   ],
   "source": [
    "prediction = user_input_scaled\n",
    "\n",
    "if prediction[0][0] >= 0.5:\n",
    "    result = \"Diabetic\"\n",
    "else:\n",
    "    result = \"Non-Diabetic\"\n",
    "\n",
    "print(\"Prediction:\", result)"
   ]
  },
  {
   "cell_type": "code",
   "execution_count": 46,
   "metadata": {},
   "outputs": [
    {
     "data": {
      "text/html": [
       "<style>#sk-container-id-4 {color: black;}#sk-container-id-4 pre{padding: 0;}#sk-container-id-4 div.sk-toggleable {background-color: white;}#sk-container-id-4 label.sk-toggleable__label {cursor: pointer;display: block;width: 100%;margin-bottom: 0;padding: 0.3em;box-sizing: border-box;text-align: center;}#sk-container-id-4 label.sk-toggleable__label-arrow:before {content: \"▸\";float: left;margin-right: 0.25em;color: #696969;}#sk-container-id-4 label.sk-toggleable__label-arrow:hover:before {color: black;}#sk-container-id-4 div.sk-estimator:hover label.sk-toggleable__label-arrow:before {color: black;}#sk-container-id-4 div.sk-toggleable__content {max-height: 0;max-width: 0;overflow: hidden;text-align: left;background-color: #f0f8ff;}#sk-container-id-4 div.sk-toggleable__content pre {margin: 0.2em;color: black;border-radius: 0.25em;background-color: #f0f8ff;}#sk-container-id-4 input.sk-toggleable__control:checked~div.sk-toggleable__content {max-height: 200px;max-width: 100%;overflow: auto;}#sk-container-id-4 input.sk-toggleable__control:checked~label.sk-toggleable__label-arrow:before {content: \"▾\";}#sk-container-id-4 div.sk-estimator input.sk-toggleable__control:checked~label.sk-toggleable__label {background-color: #d4ebff;}#sk-container-id-4 div.sk-label input.sk-toggleable__control:checked~label.sk-toggleable__label {background-color: #d4ebff;}#sk-container-id-4 input.sk-hidden--visually {border: 0;clip: rect(1px 1px 1px 1px);clip: rect(1px, 1px, 1px, 1px);height: 1px;margin: -1px;overflow: hidden;padding: 0;position: absolute;width: 1px;}#sk-container-id-4 div.sk-estimator {font-family: monospace;background-color: #f0f8ff;border: 1px dotted black;border-radius: 0.25em;box-sizing: border-box;margin-bottom: 0.5em;}#sk-container-id-4 div.sk-estimator:hover {background-color: #d4ebff;}#sk-container-id-4 div.sk-parallel-item::after {content: \"\";width: 100%;border-bottom: 1px solid gray;flex-grow: 1;}#sk-container-id-4 div.sk-label:hover label.sk-toggleable__label {background-color: #d4ebff;}#sk-container-id-4 div.sk-serial::before {content: \"\";position: absolute;border-left: 1px solid gray;box-sizing: border-box;top: 0;bottom: 0;left: 50%;z-index: 0;}#sk-container-id-4 div.sk-serial {display: flex;flex-direction: column;align-items: center;background-color: white;padding-right: 0.2em;padding-left: 0.2em;position: relative;}#sk-container-id-4 div.sk-item {position: relative;z-index: 1;}#sk-container-id-4 div.sk-parallel {display: flex;align-items: stretch;justify-content: center;background-color: white;position: relative;}#sk-container-id-4 div.sk-item::before, #sk-container-id-4 div.sk-parallel-item::before {content: \"\";position: absolute;border-left: 1px solid gray;box-sizing: border-box;top: 0;bottom: 0;left: 50%;z-index: -1;}#sk-container-id-4 div.sk-parallel-item {display: flex;flex-direction: column;z-index: 1;position: relative;background-color: white;}#sk-container-id-4 div.sk-parallel-item:first-child::after {align-self: flex-end;width: 50%;}#sk-container-id-4 div.sk-parallel-item:last-child::after {align-self: flex-start;width: 50%;}#sk-container-id-4 div.sk-parallel-item:only-child::after {width: 0;}#sk-container-id-4 div.sk-dashed-wrapped {border: 1px dashed gray;margin: 0 0.4em 0.5em 0.4em;box-sizing: border-box;padding-bottom: 0.4em;background-color: white;}#sk-container-id-4 div.sk-label label {font-family: monospace;font-weight: bold;display: inline-block;line-height: 1.2em;}#sk-container-id-4 div.sk-label-container {text-align: center;}#sk-container-id-4 div.sk-container {/* jupyter's `normalize.less` sets `[hidden] { display: none; }` but bootstrap.min.css set `[hidden] { display: none !important; }` so we also need the `!important` here to be able to override the default hidden behavior on the sphinx rendered scikit-learn.org. See: https://github.com/scikit-learn/scikit-learn/issues/21755 */display: inline-block !important;position: relative;}#sk-container-id-4 div.sk-text-repr-fallback {display: none;}</style><div id=\"sk-container-id-4\" class=\"sk-top-container\"><div class=\"sk-text-repr-fallback\"><pre>SVC(kernel=&#x27;linear&#x27;)</pre><b>In a Jupyter environment, please rerun this cell to show the HTML representation or trust the notebook. <br />On GitHub, the HTML representation is unable to render, please try loading this page with nbviewer.org.</b></div><div class=\"sk-container\" hidden><div class=\"sk-item\"><div class=\"sk-estimator sk-toggleable\"><input class=\"sk-toggleable__control sk-hidden--visually\" id=\"sk-estimator-id-4\" type=\"checkbox\" checked><label for=\"sk-estimator-id-4\" class=\"sk-toggleable__label sk-toggleable__label-arrow\">SVC</label><div class=\"sk-toggleable__content\"><pre>SVC(kernel=&#x27;linear&#x27;)</pre></div></div></div></div></div>"
      ],
      "text/plain": [
       "SVC(kernel='linear')"
      ]
     },
     "execution_count": 46,
     "metadata": {},
     "output_type": "execute_result"
    }
   ],
   "source": [
    "#pickel\n",
    "import pickle\n",
    "\n",
    "pickle.dump(svm_model,open('Final2.pkl' , 'wb'))\n",
    "pickle.load(open('Final2.pkl' , 'rb'))"
   ]
  },
  {
   "cell_type": "code",
   "execution_count": 52,
   "metadata": {},
   "outputs": [],
   "source": [
    "import pickle\n",
    "pickle.dump(sc, open('scaler.pkl', 'wb'))  # Save the fitted scaler as scaler.pkl"
   ]
  }
 ],
 "metadata": {
  "kernelspec": {
   "display_name": "base",
   "language": "python",
   "name": "python3"
  },
  "language_info": {
   "codemirror_mode": {
    "name": "ipython",
    "version": 3
   },
   "file_extension": ".py",
   "mimetype": "text/x-python",
   "name": "python",
   "nbconvert_exporter": "python",
   "pygments_lexer": "ipython3",
   "version": "3.11.5"
  }
 },
 "nbformat": 4,
 "nbformat_minor": 2
}
